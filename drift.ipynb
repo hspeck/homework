{
 "cells": [
  {
   "cell_type": "code",
   "execution_count": null,
   "metadata": {
    "collapsed": true
   },
   "outputs": [],
   "source": [
    "import scipy\n",
    "\n",
    "def build_population(N, p):\n",
    "    population = []\n",
    "    for i in range (N):\n",
    "        allele1 = \"A\"\n",
    "        if scipy.random.rand() > p:\n",
    "            allele1 = \"a\"\n",
    "        allele2 = \"A\"\n",
    "        if scipy.random.rand() > p:\n",
    "            allele2 = \"a\"\n",
    "        population.append((allele1, allele2))\n",
    "    return population\n",
    "\n",
    "def compute_frequencies(population):\n",
    "    AA=population.count((\"A\",\"A\"))\n",
    "    Aa=population.count((\"A\", \"a\"))\n",
    "    aA=population.count((\"a\", \"A\"))\n",
    "    aa=population.count((\"a\", \"a\"))\n",
    "    return ({\"AA\": AA, \"aa\": aa, \"Aa\": Aa, \"aA\": aA})\n",
    "\n",
    "def reproduce_population(population):\n",
    "    new_generation=[]\n",
    "    N=len(population)\n",
    "    for i in range(N):\n",
    "        dad=scipy.random.randint(N)\n",
    "        mom=scipy.random.randint(N)\n",
    "        chr_mom=scipy.random.randint(2)\n",
    "        offspring=(population[mom][chr_mom],population[dad][1-chr_mom])\n",
    "        new_generation.append(offspring)\n",
    "    return(new_generation)"
   ]
  }
 ],
 "metadata": {
  "anaconda-cloud": {},
  "kernelspec": {
   "display_name": "Python [default]",
   "language": "python",
   "name": "python3"
  },
  "language_info": {
   "codemirror_mode": {
    "name": "ipython",
    "version": 3
   },
   "file_extension": ".py",
   "mimetype": "text/x-python",
   "name": "python",
   "nbconvert_exporter": "python",
   "pygments_lexer": "ipython3",
   "version": "3.5.2"
  }
 },
 "nbformat": 4,
 "nbformat_minor": 2
}
