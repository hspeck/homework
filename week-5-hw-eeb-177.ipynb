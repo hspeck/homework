{
 "cells": [
  {
   "cell_type": "markdown",
   "metadata": {},
   "source": [
    "# Part One: Continuing the in class challenge\n",
    "\n",
    "### 1. how many families are in this file?"
   ]
  },
  {
   "cell_type": "markdown",
   "metadata": {
    "collapsed": true
   },
   "source": [
    "did this in class, had to load the data and format it properly\n",
    "use tail to cut off all the header info, set cut to grab the 3rd column, families\n",
    "sort it then pass to uniq and then get the total number of lines\n",
    "```\n",
    "tail -n +4 ~/Desktop/eeb-177/class-assignments/formatted_nature.csv | cut -d \",\" -f 3 | sort |uniq | wc -l\n",
    "```"
   ]
  },
  {
   "cell_type": "markdown",
   "metadata": {},
   "source": [
    "##### 194 families"
   ]
  },
  {
   "cell_type": "markdown",
   "metadata": {},
   "source": [
    "### 2. Which family has the most species represented"
   ]
  },
  {
   "cell_type": "markdown",
   "metadata": {
    "collapsed": true
   },
   "source": [
    "#### can use uniq -c ability to prefix lines with how many times they occured.\n",
    "can then sort the output to get the line with the highest amount\n",
    "\n",
    "want to grab all the appropriate data\n",
    "    use tail\n",
    "want to sort according to the third column and uniq -c to get the count for each family\n",
    "\n",
    "need to sort the formated output numerically by the first column\n",
    "    use sort -n -r for numerical reversed, then grab the first result\n",
    "    use head to grab the first result\n",
    "\n",
    "```   \n",
    "tail -n +4 ~/Desktop/eeb-177/class-assignments/formatted_nature.csv | cut -d \",\" -f 3 |sort| uniq -c |sort -n -r| head -n +1\n",
    "```"
   ]
  },
  {
   "cell_type": "markdown",
   "metadata": {},
   "source": [
    "##### 102 species of Trochilidae"
   ]
  },
  {
   "cell_type": "markdown",
   "metadata": {},
   "source": [
    "### 3. How many families have only a single species in them?"
   ]
  },
  {
   "cell_type": "markdown",
   "metadata": {
    "collapsed": true
   },
   "source": [
    "can use the first section of the code up to uniq -c to generate the list\n",
    "then use grep to grab only things listed once and count them\n",
    "eg grep -cwE \"\\*sw\\s*\"\n",
    "```\n",
    "tail -n +4 ~/Desktop/eeb-177/class-assignments/formatted_nature.csv | cut -d \",\" -f 3 |sort| uniq -c |sort -n -r| grep -wcE \"\\s*1\\s*\"\n",
    "```"
   ]
  },
  {
   "cell_type": "markdown",
   "metadata": {},
   "source": [
    "##### 60 families have 1 species in them"
   ]
  },
  {
   "cell_type": "markdown",
   "metadata": {},
   "source": [
    "### 4. How many families are present in the eBird data?"
   ]
  },
  {
   "cell_type": "markdown",
   "metadata": {
    "collapsed": true
   },
   "source": [
    "Can use the same steps,just making the appropriate adjustmetns for the format of the eBird csv\n",
    "\n",
    "~~~~~\n",
    "tail -n +2 ~/Desktop/eeb-177/class-assignments/formatted_eBird.csv | cut -d \",\" -f 8 | sort | uniq | wc -l\n",
    "~~~~~"
   ]
  },
  {
   "cell_type": "markdown",
   "metadata": {},
   "source": [
    "##### 239 families"
   ]
  },
  {
   "cell_type": "markdown",
   "metadata": {},
   "source": [
    "### 5. How many species are in each family in the eBird Data?"
   ]
  },
  {
   "cell_type": "markdown",
   "metadata": {
    "collapsed": true
   },
   "source": [
    "can use uniq -c to get the number of occurences of these groups in the file\n",
    "will sort the output too to make it numerical\n",
    "\n",
    "````\n",
    "tail -n +2 ~/Desktop/eeb-177/class-assignments/formatted_eBird.csv | cut -d \",\" -f 8 | sort | uniq -c | sort -n\n",
    "````"
   ]
  },
  {
   "cell_type": "markdown",
   "metadata": {},
   "source": [
    "  ##### Output of the above command\n",
    "  \n",
    "      1 Anseranatidae (Magpie Goose)\n",
    "      1 Balaenicipitidae (Shoebill)\n",
    "      1 Donacobiidae (Donacobius)\n",
    "      1 Dromadidae (Crab Plover)\n",
    "      1 Dulidae (Palmchat)\n",
    "      1 Elachuridae (Spotted Elachura)\n",
    "      1 Eulacestomatidae (Ploughbill)\n",
    "      1 Eupetidae (Rail-babbler)\n",
    "      1 Eurypygidae (Sunbittern)\n",
    "      1 Hylocitreidae (Hylocitrea)\n",
    "      1 Hypocoliidae (Hypocolius)\n",
    "      1 Ibidorhynchidae (Ibisbill)\n",
    "      1 Ifritidae (Ifrita)\n",
    "      1 Leptosomidae (Cuckoo-Roller)\n",
    "      1 Notiomystidae (Stitchbird)\n",
    "      1 Opisthocomidae (Hoatzin)\n",
    "      1 Oxyruncidae (Sharpbill)\n",
    "      1 Panuridae (Bearded Reedling)\n",
    "      1 Pedionomidae (Plains-wanderer)\n",
    "      1 Peucedramidae (Olive Warbler)\n",
    "      1 Pityriaseidae (Bristlehead)\n",
    "      1 Pluvianellidae (Magellanic Plover)\n",
    "      1 Pluvianidae (Egyptian Plover)\n",
    "      1 Rhagologidae (Mottled Berryhunter)\n",
    "      1 Rhynochetidae (Kagu)\n",
    "      1 Sagittariidae (Secretary-bird)\n",
    "      1 Sapayoidae (Sapayoa)\n",
    "      1 Scopidae (Hamerkop)\n",
    "      1 Steatornithidae (Oilbird)\n",
    "      1 Tichodromidae (Wallcreeper)\n",
    "      1 Urocynchramidae (Przevalski's Pinktail)\n",
    "      2 Atrichornithidae (Scrub-birds)\n",
    "      2 Bucorvidae (Ground-Hornbills)\n",
    "      2 Cariamidae (Seriemas)\n",
    "      2 Chaetopidae (Rockjumpers)\n",
    "      2 Chionidae (Sheathbills)\n",
    "      2 Corcoracidae (White-winged Chough and Apostlebird)\n",
    "      2 Irenidae (Fairy-bluebirds)\n",
    "      2 Machaerirhynchidae (Boatbills)\n",
    "      2 Melampittidae (Melampittas)\n",
    "      2 Menuridae (Lyrebirds)\n",
    "      2 Paramythiidae (Tit Berrypecker and Crested Berrypecker)\n",
    "      2 Picathartidae (Rockfowl)\n",
    "      2 Semnornithidae (Toucan-Barbets)\n",
    "      3 Anhimidae (Screamers)\n",
    "      3 Aramidae (Limpkin)\n",
    "      3 Buphagidae (Oxpeckers)\n",
    "      3 Cnemophilidae (Satinbirds)\n",
    "      3 Dasyornithidae (Bristlebirds)\n",
    "      3 Heliornithidae (Finfoots)\n",
    "      3 Mesitornithidae (Mesites)\n",
    "      3 Mohouidae (Whiteheads)\n",
    "      3 Oreoicidae (Australo-Papuan Bellbirds)\n",
    "      3 Orthonychidae (Logrunners)\n",
    "      3 Rostratulidae (Painted-Snipes)\n",
    "      3 Struthionidae (Ostriches)\n",
    "      4 Acanthisittidae (New Zealand Wrens)\n",
    "      4 Anhingidae (Anhingas)\n",
    "      4 Bombycillidae (Waxwings)\n",
    "      4 Casuariidae (Cassowaries and Emu)\n",
    "      4 Falcunculidae (Shrike-tit)\n",
    "      4 Hyliotidae (Hyliotas)\n",
    "      4 Melanopareiidae (Crescentchests)\n",
    "      4 Nicatoridae (Nicators)\n",
    "      4 Ptiliogonatidae (Silky-flycatchers)\n",
    "      4 Rheidae (Rheas)\n",
    "      4 Strigopidae (New Zealand Parrots)\n",
    "      4 Thinocoridae (Seedsnipes)\n",
    "      5 \n",
    "      5 Aegithinidae (Ioras)\n",
    "      5 Brachypteraciidae (Ground-Rollers)\n",
    "      5 Callaeidae (Wattlebirds)\n",
    "      5 Hemiprocnidae (Treeswifts)\n",
    "      5 Mohoidae (Hawaiian Honeyeaters)\n",
    "      5 Pandionidae (Osprey)\n",
    "      5 Philepittidae (Asities)\n",
    "      5 Pomatostomidae (Pseudo-Babblers)\n",
    "      5 Promeropidae (Sugarbirds)\n",
    "      5 Psophodidae (Whipbirds and Wedgebills)\n",
    "      5 Upupidae (Hoopoes)\n",
    "      6 Fregatidae (Frigatebirds)\n",
    "      6 Todidae (Todies)\n",
    "      7 Apterygidae (Kiwis)\n",
    "      7 Coliidae (Mousebirds)\n",
    "      7 Pnoepygidae (Cupwings)\n",
    "      8 Gaviidae (Loons)\n",
    "      8 Neosittidae (Sittellas)\n",
    "      8 Phoenicopteridae (Flamingos)\n",
    "      9 Calcariidae (Longspurs and Snow Buntings)\n",
    "      9 Climacteridae (Australasian Treecreepers)\n",
    "     10 Calyptomenidae (African and Green Broadbills)\n",
    "     10 Cinclidae (Dippers)\n",
    "     10 Nyctibiidae (Potoos)\n",
    "     11 Bernieridae (Malagasy Warblers)\n",
    "     11 Burhinidae (Thick-knees)\n",
    "     11 Eurylaimidae (Asian and Grauer's Broadbills)\n",
    "     11 Phaethontidae (Tropicbirds)\n",
    "     11 Psophiidae (Trumpeters)\n",
    "     11 Stenostiridae (Fairy Flycatchers)\n",
    "     12 Cathartidae (New World Vultures)\n",
    "     12 Melanocharitidae (Berrypeckers and Longbills)\n",
    "     12 Pardalotidae (Pardalotes)\n",
    "     13 Chloropseidae (Leafbirds)\n",
    "     13 Conopophagidae (Gnateaters)\n",
    "     13 Jacanidae (Jacanas)\n",
    "     13 Pelecanidae (Pelicans)\n",
    "     13 Phoeniculidae (Woodhoopoes and Scimitar-bills)\n",
    "     13 Regulidae (Kinglets)\n",
    "     14 Aegothelidae (Owlet-nightjars)\n",
    "     14 Artamidae (Woodswallows)\n",
    "     14 Cinclosomatidae (Quail-thrushes and Jewel-babblers)\n",
    "     14 Prunellidae (Accentors)\n",
    "     15 Numididae (Guineafowl)\n",
    "     15 Sarothruridae (Flufftails)\n",
    "     16 Haematopodidae (Oystercatchers)\n",
    "     16 Remizidae (Penduline-Tits)\n",
    "     16 Stercorariidae (Skuas and Jaegers)\n",
    "     17 Formicariidae (Antthrushes)\n",
    "     18 Capitonidae (New World Barbets)\n",
    "     18 Coraciidae (Rollers)\n",
    "     19 Certhiidae (Treecreepers)\n",
    "     19 Recurvirostridae (Stilts and Avocets)\n",
    "     19 Turnicidae (Buttonquail)\n",
    "     20 Indicatoridae (Honeyguides)\n",
    "     21 Momotidae (Motmots)\n",
    "     21 Spheniscidae (Penguins)\n",
    "     21 Sulidae (Boobies and Gannets)\n",
    "     23 Aegithalidae (Long-tailed Tits)\n",
    "     23 Galbulidae (Jacamars)\n",
    "     23 Glareolidae (Pratincoles and Coursers)\n",
    "     23 Gruidae (Cranes)\n",
    "     23 Megapodiidae (Megapodes)\n",
    "     23 Podargidae (Frogmouths)\n",
    "     23 Viduidae (Indigobirds)\n",
    "     24 Pteroclidae (Sandgrouse)\n",
    "     25 Ciconiidae (Storks)\n",
    "     25 Macrosphenidae (African Warblers)\n",
    "     26 Cacatuidae (Cockatoos)\n",
    "     26 Cracticidae (Bellmagpies and Allies)\n",
    "     28 Ptilonorhynchidae (Bowerbirds)\n",
    "     30 Polioptilidae (Gnatcatchers)\n",
    "     31 Podicipedidae (Grebes)\n",
    "     33 Diomedeidae (Albatrosses)\n",
    "     33 Meropidae (Bee-eaters)\n",
    "     34 Otididae (Bustards)\n",
    "     35 Tytonidae (Barn-Owls)\n",
    "     37 Sittidae (Nuthatches)\n",
    "     40 \"Alcidae (Auks\n",
    "     40 Dicruridae (Drongos)\n",
    "     40 Maluridae (Fairywrens)\n",
    "     41 Musophagidae (Turacos)\n",
    "     42 Cettiidae (Bush-Warblers and Allies)\n",
    "     42 Megalaimidae (Asian Barbets)\n",
    "     44 Threskiornithidae (Ibises and Spoonbills)\n",
    "     44 Tityridae (Tityras and Allies)\n",
    "     45 Paradisaeidae (Birds-of-Paradise)\n",
    "     45 Platysteiridae (Wattle-eyes and Batises)\n",
    "     46 Mimidae (Mockingbirds and Thrashers)\n",
    "     46 Oriolidae (Old World Orioles)\n",
    "     46 \"Paradoxornithidae (Parrotbills\n",
    "     47 Sylviidae (Sylviid Warblers)\n",
    "     48 Bucconidae (Puffbirds)\n",
    "     50 Hydrobatidae (Storm-Petrels)\n",
    "     50 Odontophoridae (New World Quail)\n",
    "     54 \"Vangidae (Vangas\n",
    "     55 Passeridae (Old World Sparrows)\n",
    "     56 Phalacrocoracidae (Cormorants and Shags)\n",
    "     57 Dicaeidae (Flowerpeckers)\n",
    "     57 Tinamidae (Tinamous)\n",
    "     58 Petroicidae (Australasian Robins)\n",
    "     59 Laniidae (Shrikes)\n",
    "     59 Pittidae (Pittas)\n",
    "     61 Trogonidae (Trogons)\n",
    "     64 Lybiidae (African Barbets)\n",
    "     64 Ramphastidae (Toucans)\n",
    "     67 Pipridae (Manakins)\n",
    "     67 \"Timaliidae (Tree-Babblers\n",
    "     70 Pellorneidae (Ground Babblers and Allies)\n",
    "     71 Pachycephalidae (Whistlers and Allies)\n",
    "     72 \"Cracidae (Guans\n",
    "     72 Malaconotidae (Bushshrikes and Allies)\n",
    "     74 Bucerotidae (Hornbills)\n",
    "     74 Grallariidae (Antpittas)\n",
    "     75 Rhinocryptidae (Tapaculos)\n",
    "     76 Acanthizidae (Thornbills and Allies)\n",
    "     76 Cotingidae (Cotingas)\n",
    "     76 Locustellidae (Grassbirds and Allies)\n",
    "     80 Acrocephalidae (Reed-Warblers and Allies)\n",
    "     86 Rhipiduridae (Fantails)\n",
    "     90 Charadriidae (Plovers and Lapwings)\n",
    "     93 Cardinalidae (Cardinals and Allies)\n",
    "     98 \"Paridae (Tits\n",
    "    108 \"Vireonidae (Vireos\n",
    "    109 Falconidae (Falcons and Caracaras)\n",
    "    111 Campephagidae (Cuckooshrikes)\n",
    "    119 Phylloscopidae (Leaf Warblers)\n",
    "    124 Caprimulgidae (Nightjars and Allies)\n",
    "    126 \"Ardeidae (Herons\n",
    "    130 Motacillidae (Wagtails and Pipits)\n",
    "    136 Monarchidae (Monarch Flycatchers)\n",
    "    144 Procellariidae (Shearwaters and Petrels)\n",
    "    146 Hirundinidae (Swallows)\n",
    "    147 Sturnidae (Starlings)\n",
    "    147 \"Zosteropidae (White-eyes\n",
    "    148 Alaudidae (Larks)\n",
    "    152 Apodidae (Swifts)\n",
    "    154 Ploceidae (Weavers and Allies)\n",
    "    158 Scolopacidae (Sandpipers and Allies)\n",
    "    161 Alcedinidae (Kingfishers)\n",
    "    165 Troglodytidae (Wrens)\n",
    "    166 Icteridae (Troupials and Allies)\n",
    "    171 Leiothrichidae (Laughingthrushes and Allies)\n",
    "    176 Estrildidae (Waxbills and Allies)\n",
    "    190 \"Corvidae (Crows\n",
    "    190 Nectariniidae (Sunbirds and Spiderhunters)\n",
    "    200 Pycnonotidae (Bulbuls)\n",
    "    203 \"Rallidae (Rails\n",
    "    206 Cuculidae (Cuckoos)\n",
    "    208 Meliphagidae (Honeyeaters)\n",
    "    209 \"Laridae (Gulls\n",
    "    222 Cisticolidae (Cisticolas and Allies)\n",
    "    226 Psittaculidae (Old World Parrots)\n",
    "    228 Parulidae (New World Warblers)\n",
    "    240 \"Phasianidae (Pheasants\n",
    "    251 Psittacidae (New World and African Parrots)\n",
    "    295 Turdidae (Thrushes and Allies)\n",
    "    298 Thamnophilidae (Typical Antbirds)\n",
    "    318 Emberizidae (Buntings and New World Sparrows)\n",
    "    318 Strigidae (Owls)\n",
    "    325 \"Fringillidae (Finches\n",
    "    364 \"Anatidae (Ducks\n",
    "    370 Picidae (Woodpeckers)\n",
    "    386 \"Accipitridae (Hawks\n",
    "    425 Columbidae (Pigeons and Doves)\n",
    "    452 Furnariidae (Ovenbirds and Woodcreepers)\n",
    "    457 Muscicapidae (Old World Flycatchers)\n",
    "    472 Trochilidae (Hummingbirds)\n",
    "    505 Thraupidae (Tanagers and Allies)\n",
    "    617 Tyrannidae (Tyrant Flycatchers)"
   ]
  },
  {
   "cell_type": "markdown",
   "metadata": {},
   "source": [
    "# Part II Bird Data in Python"
   ]
  },
  {
   "cell_type": "code",
   "execution_count": 31,
   "metadata": {
    "collapsed": false,
    "scrolled": false
   },
   "outputs": [],
   "source": [
    "#Need to open, read the data into python\n",
    "#pruned data has had the appropriate lines at the top of the file removed\n",
    "nature_data_name= \"/home/eeb177-student/Desktop/eeb-177/class-assignments/pruned_nature.csv\"\n",
    "nature_data=open(nature_data_name, encoding=\"iso-8859-1\")\n",
    "nature_contents=nature_data.read()\n",
    "\n",
    "eBird_data_name=\"/home/eeb177-student/Desktop/eeb-177/class-assignments/pruned_eBird.csv\"\n",
    "eBird_data=open(eBird_data_name, encoding= \"iso-8859-1\")\n",
    "eBird_contents=eBird_data.read()"
   ]
  },
  {
   "cell_type": "markdown",
   "metadata": {},
   "source": [
    "1. Create dictionary where keys are species in the nature data set and and values are families\n",
    "    write a loop to give the output\n",
    "``````\n",
    "Species XX belongs to Family YY \n",
    "``````\n",
    "for all key value pairs"
   ]
  },
  {
   "cell_type": "code",
   "execution_count": 25,
   "metadata": {
    "collapsed": false,
    "scrolled": true
   },
   "outputs": [
    {
     "name": "stdout",
     "output_type": "stream",
     "text": [
      "Trochilidae\n",
      "Sylviidae\n",
      "Cracidae\n",
      "Meliphagidae\n",
      "Emberizidae\n",
      "Abeillia_abeillei\n",
      "Abroscopus_schisticeps\n",
      "Aburria_aburri\n",
      "Acanthagenys_rufogularis\n",
      "Acanthidops_bairdii\n",
      "{'A': 'A'}\n"
     ]
    }
   ],
   "source": [
    "#can try to use .split to cut apart the string for each delimiters in the file \n",
    "#that didn't work so hot, made it one entire string that was then cut up\n",
    "\n",
    "\n",
    "\n",
    "#let's make a testing file, consisting of a small number of lines\n",
    "testingnature_data_name= \"/home/eeb177-student/Desktop/eeb-177/class-assignments/testing_nature.csv\"\n",
    "testingnature_data=open(testingnature_data_name, encoding=\"iso-8859-1\")\n",
    "testingnature_contents=testingnature_data.read()\n",
    "\n",
    "testingeBird_data_name=\"/home/eeb177-student/Desktop/eeb-177/class-assignments/testing_eBird.csv\"\n",
    "testingeBird_data=open(testingeBird_data_name, encoding= \"iso-8859-1\")\n",
    "testingeBird_contents=testingeBird_data.read()\n",
    "\n",
    "# print(testingnature_contents.split(\"\\n\")[-2])\n",
    "#this lets me get each line as a separate item, only problem is the last line is blank\n",
    "#will need to account for the blank line in calcultations\n",
    "testingnaturerows=testingnature_contents.split(\"\\n\")[ :-1]\n",
    "#this gets the rows but not the last one\n",
    "\n",
    "#families are in 3rd item, i.e.  position 2 for each string\n",
    "\n",
    "for row in testingnaturerows:\n",
    "    print(row.split(\",\")[2])\n",
    "#ok can get all the familes \n",
    "\n",
    "#now want to get the species, its the first column, so position 0\n",
    "\n",
    "for row in testingnaturerows:\n",
    "    print(row.split(\",\")[0])\n",
    "    \n",
    "#need to make species as key, and family as valuee\n",
    "Test_dict={}\n",
    "for row in testingnaturerows:\n",
    "    testkey=row.split(\",\")[0]\n",
    "    testvalue=row.split(\",\")[]\n",
    "    Test_dict[testkey]=testvalue\n",
    "print(Test_dict)"
   ]
  },
  {
   "cell_type": "code",
   "execution_count": null,
   "metadata": {
    "collapsed": true
   },
   "outputs": [],
   "source": []
  },
  {
   "cell_type": "markdown",
   "metadata": {},
   "source": [
    "# Part III Python for Biologists"
   ]
  },
  {
   "cell_type": "code",
   "execution_count": null,
   "metadata": {
    "collapsed": true
   },
   "outputs": [],
   "source": []
  }
 ],
 "metadata": {
  "anaconda-cloud": {},
  "kernelspec": {
   "display_name": "Python [default]",
   "language": "python",
   "name": "python3"
  },
  "language_info": {
   "codemirror_mode": {
    "name": "ipython",
    "version": 3
   },
   "file_extension": ".py",
   "mimetype": "text/x-python",
   "name": "python",
   "nbconvert_exporter": "python",
   "pygments_lexer": "ipython3",
   "version": "3.5.2"
  }
 },
 "nbformat": 4,
 "nbformat_minor": 2
}
