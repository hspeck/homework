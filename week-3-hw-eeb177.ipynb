{
 "cells": [
  {
   "cell_type": "code",
   "execution_count": 8,
   "metadata": {
    "collapsed": false
   },
   "outputs": [
    {
     "name": "stdout",
     "output_type": "stream",
     "text": [
      "AT content is 0.6851851851851852\n"
     ]
    }
   ],
   "source": [
    "##AT content calculation from Python for biologists\n",
    "\n",
    "\n",
    "my_dna=\"ACTGATCGATTACGTATAGTATTTGCTATCATACATATATATCGATGCGTTCAT\"\n",
    "#want to calculate the AT content\n",
    "#so total A + total T /total\n",
    "A_count=my_dna.count(\"A\")\n",
    "T_count=my_dna.count(\"T\")\n",
    "SeqLength=len(my_dna)\n",
    "AT_content=(A_count+T_count)/SeqLength\n",
    "print(\"AT content is \" + str(AT_content))"
   ]
  },
  {
   "cell_type": "code",
   "execution_count": 10,
   "metadata": {
    "collapsed": true
   },
   "outputs": [],
   "source": [
    "###software carpentry exercises\n",
    "\n",
    "import numpy"
   ]
  },
  {
   "cell_type": "code",
   "execution_count": 26,
   "metadata": {
    "collapsed": false,
    "scrolled": false
   },
   "outputs": [
    {
     "data": {
      "text/plain": [
       "array([[ 0.,  0.,  1., ...,  3.,  0.,  0.],\n",
       "       [ 0.,  1.,  2., ...,  1.,  0.,  1.],\n",
       "       [ 0.,  1.,  1., ...,  2.,  1.,  1.],\n",
       "       ..., \n",
       "       [ 0.,  1.,  1., ...,  1.,  1.,  1.],\n",
       "       [ 0.,  0.,  0., ...,  0.,  2.,  0.],\n",
       "       [ 0.,  0.,  1., ...,  1.,  1.,  0.]])"
      ]
     },
     "execution_count": 26,
     "metadata": {},
     "output_type": "execute_result"
    }
   ],
   "source": [
    "numpy.loadtxt(fname='python-novice-inflammation/data/inflammation-01.csv', delimiter=',')\n",
    "#don't have inflamation-01.csv so don't get anything"
   ]
  },
  {
   "cell_type": "code",
   "execution_count": 13,
   "metadata": {
    "collapsed": true
   },
   "outputs": [],
   "source": [
    "weight_kg = 55"
   ]
  },
  {
   "cell_type": "code",
   "execution_count": 14,
   "metadata": {
    "collapsed": false,
    "scrolled": true
   },
   "outputs": [
    {
     "name": "stdout",
     "output_type": "stream",
     "text": [
      "55\n"
     ]
    }
   ],
   "source": [
    "print(weight_kg)"
   ]
  },
  {
   "cell_type": "code",
   "execution_count": 15,
   "metadata": {
    "collapsed": false
   },
   "outputs": [
    {
     "name": "stdout",
     "output_type": "stream",
     "text": [
      "weight in pounds: 121.00000000000001\n"
     ]
    }
   ],
   "source": [
    "print('weight in pounds:', 2.2 * weight_kg)\n",
    "##not sure what is up with the .0000000001 buisness, happens later for the last value too"
   ]
  },
  {
   "cell_type": "code",
   "execution_count": 16,
   "metadata": {
    "collapsed": false
   },
   "outputs": [
    {
     "name": "stdout",
     "output_type": "stream",
     "text": [
      "weight in kilograms is now: 57.5\n"
     ]
    }
   ],
   "source": [
    "weight_kg =57.5\n",
    "print('weight in kilograms is now:', weight_kg)"
   ]
  },
  {
   "cell_type": "code",
   "execution_count": 17,
   "metadata": {
    "collapsed": false
   },
   "outputs": [
    {
     "name": "stdout",
     "output_type": "stream",
     "text": [
      "weight in kilograms: 57.5 and in pounds: 126.50000000000001\n"
     ]
    }
   ],
   "source": [
    "weight_lb =2.2 *weight_kg\n",
    "print('weight in kilograms:', weight_kg, \"and in pounds:\", weight_lb)"
   ]
  },
  {
   "cell_type": "code",
   "execution_count": 18,
   "metadata": {
    "collapsed": false
   },
   "outputs": [
    {
     "name": "stdout",
     "output_type": "stream",
     "text": [
      "weight in kilograms is now: 100 and weight in pounds is still: 126.50000000000001\n"
     ]
    }
   ],
   "source": [
    "weight_kg = 100\n",
    "print(\"weight in kilograms is now:\", weight_kg, \"and weight in pounds is still:\", weight_lb)"
   ]
  },
  {
   "cell_type": "code",
   "execution_count": 19,
   "metadata": {
    "collapsed": false
   },
   "outputs": [
    {
     "name": "stdout",
     "output_type": "stream",
     "text": [
      "Variable     Type      Data/Info\n",
      "--------------------------------\n",
      "AT_content   float     0.6851851851851852\n",
      "A_count      int       16\n",
      "SeqLength    int       54\n",
      "T_count      int       21\n",
      "length       int       54\n",
      "my_dna       str       ACTGATCGATTACGTATAGTATTTG<...>CATACATATATATCGATGCGTTCAT\n",
      "numpy        module    <module 'numpy' from '/ho<...>kages/numpy/__init__.py'>\n",
      "weight_kg    int       100\n",
      "weight_lb    float     126.50000000000001\n"
     ]
    }
   ],
   "source": [
    "%whos"
   ]
  },
  {
   "cell_type": "code",
   "execution_count": 27,
   "metadata": {
    "collapsed": false,
    "scrolled": false
   },
   "outputs": [],
   "source": [
    "data =numpy.loadtxt(fname='python-novice-inflammation/data/inflammation-01.csv', delimiter=',')"
   ]
  },
  {
   "cell_type": "code",
   "execution_count": 28,
   "metadata": {
    "collapsed": false
   },
   "outputs": [
    {
     "name": "stdout",
     "output_type": "stream",
     "text": [
      "float64\n"
     ]
    }
   ],
   "source": [
    "print(data.dtype)"
   ]
  },
  {
   "cell_type": "code",
   "execution_count": 29,
   "metadata": {
    "collapsed": false
   },
   "outputs": [
    {
     "name": "stdout",
     "output_type": "stream",
     "text": [
      "(60, 40)\n"
     ]
    }
   ],
   "source": [
    "print(data.shape)"
   ]
  },
  {
   "cell_type": "code",
   "execution_count": 30,
   "metadata": {
    "collapsed": false
   },
   "outputs": [
    {
     "name": "stdout",
     "output_type": "stream",
     "text": [
      "first value in data: 0.0\n"
     ]
    }
   ],
   "source": [
    "print('first value in data:', data[0,0])"
   ]
  },
  {
   "cell_type": "code",
   "execution_count": 31,
   "metadata": {
    "collapsed": false
   },
   "outputs": [
    {
     "name": "stdout",
     "output_type": "stream",
     "text": [
      "middle value in data 13.0\n"
     ]
    }
   ],
   "source": [
    "print('middle value in data', data[30,20])"
   ]
  },
  {
   "cell_type": "code",
   "execution_count": 32,
   "metadata": {
    "collapsed": false
   },
   "outputs": [
    {
     "name": "stdout",
     "output_type": "stream",
     "text": [
      "[[ 0.  0.  1.  3.  1.  2.  4.  7.  8.  3.]\n",
      " [ 0.  1.  2.  1.  2.  1.  3.  2.  2.  6.]\n",
      " [ 0.  1.  1.  3.  3.  2.  6.  2.  5.  9.]\n",
      " [ 0.  0.  2.  0.  4.  2.  2.  1.  6.  7.]]\n"
     ]
    }
   ],
   "source": [
    "print(data[0:4, 0:10])"
   ]
  },
  {
   "cell_type": "code",
   "execution_count": 33,
   "metadata": {
    "collapsed": false
   },
   "outputs": [
    {
     "name": "stdout",
     "output_type": "stream",
     "text": [
      "[[ 0.  0.  1.  2.  2.  4.  2.  1.  6.  4.]\n",
      " [ 0.  0.  2.  2.  4.  2.  2.  5.  5.  8.]\n",
      " [ 0.  0.  1.  2.  3.  1.  2.  3.  5.  3.]\n",
      " [ 0.  0.  0.  3.  1.  5.  6.  5.  5.  8.]\n",
      " [ 0.  1.  1.  2.  1.  3.  5.  3.  5.  8.]]\n"
     ]
    }
   ],
   "source": [
    "print(data[5:10, 0:10])"
   ]
  },
  {
   "cell_type": "code",
   "execution_count": 34,
   "metadata": {
    "collapsed": false
   },
   "outputs": [
    {
     "name": "stdout",
     "output_type": "stream",
     "text": [
      "small is:\n",
      "[[ 2.  3.  0.  0.]\n",
      " [ 1.  1.  0.  1.]\n",
      " [ 2.  2.  1.  1.]]\n"
     ]
    }
   ],
   "source": [
    "small =data[:3, 36:]\n",
    "print('small is:')\n",
    "print(small)"
   ]
  },
  {
   "cell_type": "code",
   "execution_count": 35,
   "metadata": {
    "collapsed": true
   },
   "outputs": [],
   "source": [
    "doubledata=data *2.0"
   ]
  },
  {
   "cell_type": "code",
   "execution_count": 36,
   "metadata": {
    "collapsed": false
   },
   "outputs": [
    {
     "name": "stdout",
     "output_type": "stream",
     "text": [
      "original:\n",
      "[[ 2.  3.  0.  0.]\n",
      " [ 1.  1.  0.  1.]\n",
      " [ 2.  2.  1.  1.]]\n",
      "doubledata:\n",
      "[[ 4.  6.  0.  0.]\n",
      " [ 2.  2.  0.  2.]\n",
      " [ 4.  4.  2.  2.]]\n"
     ]
    }
   ],
   "source": [
    "print('original:')\n",
    "print(data[:3, 36:])\n",
    "print('doubledata:')\n",
    "print(doubledata[:3, 36:])"
   ]
  },
  {
   "cell_type": "code",
   "execution_count": 38,
   "metadata": {
    "collapsed": true
   },
   "outputs": [],
   "source": [
    "tripledata=doubledata+data"
   ]
  },
  {
   "cell_type": "code",
   "execution_count": 39,
   "metadata": {
    "collapsed": false
   },
   "outputs": [
    {
     "name": "stdout",
     "output_type": "stream",
     "text": [
      "tripledata:\n",
      "[[ 6.  9.  0.  0.]\n",
      " [ 3.  3.  0.  3.]\n",
      " [ 6.  6.  3.  3.]]\n"
     ]
    }
   ],
   "source": [
    "print('tripledata:')\n",
    "print(tripledata[:3, 36:])"
   ]
  },
  {
   "cell_type": "code",
   "execution_count": 40,
   "metadata": {
    "collapsed": false
   },
   "outputs": [
    {
     "name": "stdout",
     "output_type": "stream",
     "text": [
      "6.14875\n"
     ]
    }
   ],
   "source": [
    "print(numpy.mean(data))"
   ]
  },
  {
   "cell_type": "code",
   "execution_count": 24,
   "metadata": {
    "collapsed": false
   },
   "outputs": [
    {
     "name": "stdout",
     "output_type": "stream",
     "text": [
      "Tue Jan 31 02:44:25 2017\n"
     ]
    }
   ],
   "source": [
    "import time\n",
    "print(time.ctime())"
   ]
  },
  {
   "cell_type": "code",
   "execution_count": 41,
   "metadata": {
    "collapsed": false
   },
   "outputs": [
    {
     "name": "stdout",
     "output_type": "stream",
     "text": [
      "maximum inflammation: 20.0\n",
      "minimum inflammation: 0.0\n",
      "standard deviation: 4.61383319712\n"
     ]
    }
   ],
   "source": [
    "maxval, minval, stdval =numpy.max(data), numpy.min(data), numpy.std(data)\n",
    "\n",
    "print('maximum inflammation:', maxval)\n",
    "print('minimum inflammation:', minval)\n",
    "print('standard deviation:', stdval)"
   ]
  },
  {
   "cell_type": "code",
   "execution_count": 42,
   "metadata": {
    "collapsed": false
   },
   "outputs": [
    {
     "name": "stdout",
     "output_type": "stream",
     "text": [
      "maximum inflammation for patient0: 18.0\n"
     ]
    }
   ],
   "source": [
    "patient_0=data[0,:]\n",
    "print('maximum inflammation for patient0:', patient_0.max())"
   ]
  },
  {
   "cell_type": "code",
   "execution_count": 44,
   "metadata": {
    "collapsed": false,
    "scrolled": true
   },
   "outputs": [
    {
     "name": "stdout",
     "output_type": "stream",
     "text": [
      "[  0.           0.45         1.11666667   1.75         2.43333333   3.15\n",
      "   3.8          3.88333333   5.23333333   5.51666667   5.95         5.9\n",
      "   8.35         7.73333333   8.36666667   9.5          9.58333333\n",
      "  10.63333333  11.56666667  12.35        13.25        11.96666667\n",
      "  11.03333333  10.16666667  10.           8.66666667   9.15         7.25\n",
      "   7.33333333   6.58333333   6.06666667   5.95         5.11666667   3.6\n",
      "   3.3          3.56666667   2.48333333   1.5          1.13333333\n",
      "   0.56666667]\n"
     ]
    }
   ],
   "source": [
    "print(numpy.mean(data, axis=0))"
   ]
  },
  {
   "cell_type": "code",
   "execution_count": 45,
   "metadata": {
    "collapsed": false
   },
   "outputs": [
    {
     "name": "stdout",
     "output_type": "stream",
     "text": [
      "(40,)\n"
     ]
    }
   ],
   "source": [
    "print(numpy.mean(data, axis=0).shape)"
   ]
  },
  {
   "cell_type": "code",
   "execution_count": 46,
   "metadata": {
    "collapsed": false
   },
   "outputs": [
    {
     "name": "stdout",
     "output_type": "stream",
     "text": [
      "[ 5.45   5.425  6.1    5.9    5.55   6.225  5.975  6.65   6.625  6.525\n",
      "  6.775  5.8    6.225  5.75   5.225  6.3    6.55   5.7    5.85   6.55\n",
      "  5.775  5.825  6.175  6.1    5.8    6.425  6.05   6.025  6.175  6.55\n",
      "  6.175  6.35   6.725  6.125  7.075  5.725  5.925  6.15   6.075  5.75\n",
      "  5.975  5.725  6.3    5.9    6.75   5.925  7.225  6.15   5.95   6.275  5.7\n",
      "  6.1    6.825  5.975  6.725  5.7    6.25   6.4    7.05   5.9  ]\n"
     ]
    }
   ],
   "source": [
    "print(numpy.mean(data,axis=1))"
   ]
  },
  {
   "cell_type": "code",
   "execution_count": null,
   "metadata": {
    "collapsed": true
   },
   "outputs": [],
   "source": []
  },
  {
   "cell_type": "code",
   "execution_count": 47,
   "metadata": {
    "collapsed": false,
    "scrolled": true
   },
   "outputs": [
    {
     "data": {
      "image/png": "[encoded data removed]",
      "text/plain": [
       "<matplotlib.figure.Figure at 0x7f9e6fab6be0>"
      ]
     },
     "metadata": {},
     "output_type": "display_data"
    }
   ],
   "source": [
    "import matplotlib.pyplot\n",
    "image =matplotlib.pyplot.imshow(data)\n",
    "matplotlib.pyplot.show()"
   ]
  },
  {
   "cell_type": "code",
   "execution_count": 48,
   "metadata": {
    "collapsed": false,
    "scrolled": true
   },
   "outputs": [],
   "source": [
    "% matplotlib inline"
   ]
  },
  {
   "cell_type": "code",
   "execution_count": 50,
   "metadata": {
    "collapsed": false
   },
   "outputs": [
    {
     "data": {
      "image/png": "[encoded data removed]",
      "text/plain": [
       "<matplotlib.figure.Figure at 0x7f9e6db68390>"
      ]
     },
     "metadata": {},
     "output_type": "display_data"
    }
   ],
   "source": [
    "ave_inflammation =numpy.mean(data, axis=0)\n",
    "ave_plot =matplotlib.pyplot.plot(ave_inflammation)\n",
    "matplotlib.pylab.show()"
   ]
  },
  {
   "cell_type": "code",
   "execution_count": 52,
   "metadata": {
    "collapsed": false
   },
   "outputs": [
    {
     "data": {
      "image/png": "[encoded data removed]",
      "text/plain": [
       "<matplotlib.figure.Figure at 0x7f9e6eb1ba90>"
      ]
     },
     "metadata": {},
     "output_type": "display_data"
    }
   ],
   "source": [
    "max_plot=matplotlib.pyplot.plot(numpy.max(data, axis=0))\n",
    "matplotlib.pyplot.show()"
   ]
  },
  {
   "cell_type": "code",
   "execution_count": 56,
   "metadata": {
    "collapsed": false
   },
   "outputs": [
    {
     "data": {
      "image/png": "[encoded data removed]",
      "text/plain": [
       "<matplotlib.figure.Figure at 0x7f9e6dd239e8>"
      ]
     },
     "metadata": {},
     "output_type": "display_data"
    }
   ],
   "source": [
    "min_plot=matplotlib.pyplot.plot(numpy.min(data, axis=0))\n",
    "matplotlib.pyplot.show()"
   ]
  },
  {
   "cell_type": "code",
   "execution_count": 57,
   "metadata": {
    "collapsed": false
   },
   "outputs": [
    {
     "data": {
      "image/png": "[encoded data removed]",
      "text/plain": [
       "<matplotlib.figure.Figure at 0x7f9e6dcc8588>"
      ]
     },
     "metadata": {},
     "output_type": "display_data"
    }
   ],
   "source": [
    "import numpy\n",
    "import matplotlib.pyplot\n",
    "#imports the packages needed\n",
    "data = numpy.loadtxt(fname='python-novice-inflammation/data/inflammation-01.csv', delimiter=',')\n",
    "#sets the data\n",
    "fig = matplotlib.pyplot.figure(figsize=(10.0, 3.0))\n",
    "#says  how big to make the space, matplotlib.pyplot.figure makes a space to place all the plots\n",
    "axes1 = fig.add_subplot(1, 3, 1)\n",
    "axes2 = fig.add_subplot(1, 3, 2)\n",
    "axes3 = fig.add_subplot(1, 3, 3)\n",
    "#adds subplots to each axes/space, first param say how many rows of subplots, second to number of subplot columns, and then which subplot htis referes to left-right, top-bottom\n",
    "#each subplot stored in different variable [axes1, axes2, etc]\n",
    "#once created can set lables with axes1.setylable() or x label etc\n",
    "axes1.set_ylabel('average')\n",
    "axes1.plot(numpy.mean(data, axis=0))\n",
    "\n",
    "axes2.set_ylabel('max')\n",
    "axes2.plot(numpy.max(data, axis=0))\n",
    "\n",
    "axes3.set_ylabel('min')\n",
    "axes3.plot(numpy.min(data, axis=0))\n",
    "\n",
    "fig.tight_layout()\n",
    "#this means that we wanta tight layout, but wierdly this is less squeezed than otherwise for this exampel\n",
    "\n",
    "matplotlib.pyplot.show()"
   ]
  },
  {
   "cell_type": "code",
   "execution_count": 30,
   "metadata": {
    "collapsed": false
   },
   "outputs": [],
   "source": [
    "####Checking understanding\n",
    "\n",
    "mass= 47.5\n",
    "#mass is 47.5\n",
    "age= 122\n",
    "#age is 122\n",
    "mass=mass*2.0\n",
    "#mass is 95.0\n",
    "age=age-20\n",
    "#age is 102"
   ]
  },
  {
   "cell_type": "code",
   "execution_count": 31,
   "metadata": {
    "collapsed": false
   },
   "outputs": [
    {
     "name": "stdout",
     "output_type": "stream",
     "text": [
      "Hopper Grace\n"
     ]
    }
   ],
   "source": [
    "#Sorting out Refernces\n",
    "\n",
    "first, second =\"Grace\", \"Hopper\"\n",
    "third, fourth = second, first\n",
    "print(third, fourth)\n",
    "#should print Hopper Grace, as Hopper was second, which was set to third, and Grace was first which is set to fourth"
   ]
  },
  {
   "cell_type": "code",
   "execution_count": 32,
   "metadata": {
    "collapsed": false
   },
   "outputs": [
    {
     "name": "stdout",
     "output_type": "stream",
     "text": [
      "first three characters: oxy\n",
      "last three characters: gen\n",
      "value of element[:4] oxyg\n",
      "value of element[4:] en\n"
     ]
    }
   ],
   "source": [
    "###Slicing Strings\n",
    "element = 'oxygen'\n",
    "print('first three characters:', element[0:3])\n",
    "print('last three characters:', element[3:6])\n",
    "\n",
    "print(\"value of element[:4]\", element[:4])\n",
    "#aka oxyg\n",
    "print(\"value of element[4:]\", element[4:])\n",
    "#aka en"
   ]
  },
  {
   "cell_type": "code",
   "execution_count": 33,
   "metadata": {
    "collapsed": false
   },
   "outputs": [
    {
     "name": "stdout",
     "output_type": "stream",
     "text": [
      "n\n",
      "e\n"
     ]
    }
   ],
   "source": [
    "print(element[-1])\n",
    "#aka last element; n\n",
    "print(element[-2])\n",
    "#aka second to last element; e"
   ]
  },
  {
   "cell_type": "code",
   "execution_count": 34,
   "metadata": {
    "collapsed": false
   },
   "outputs": [
    {
     "data": {
      "text/plain": [
       "'xyge'"
      ]
     },
     "execution_count": 34,
     "metadata": {},
     "output_type": "execute_result"
    }
   ],
   "source": [
    "element[1:-1]\n",
    "#samples from front to back, excludes back and  front,and python counts from 0 so gives yge\n",
    "#substring includes from 1 and and to -1 but not, slices off the fron and last letter"
   ]
  },
  {
   "cell_type": "code",
   "execution_count": 35,
   "metadata": {
    "collapsed": false
   },
   "outputs": [
    {
     "data": {
      "text/plain": [
       "''"
      ]
     },
     "execution_count": 35,
     "metadata": {},
     "output_type": "execute_result"
    }
   ],
   "source": [
    "###Thin Slices\n",
    "element[3:3]\n",
    "#should produce empty strings both of them, so []"
   ]
  },
  {
   "cell_type": "code",
   "execution_count": null,
   "metadata": {
    "collapsed": true
   },
   "outputs": [],
   "source": [
    "####Plot Scaling\n",
    "#plots stop at upper end of graph due to including only enough room to plot the points\n",
    "#aka sets xlim and y lim to  it to max and min for x and y\n",
    "\n"
   ]
  },
  {
   "cell_type": "code",
   "execution_count": 70,
   "metadata": {
    "collapsed": false
   },
   "outputs": [
    {
     "data": {
      "image/png": "[encoded data removed]",
      "text/plain": [
       "<matplotlib.figure.Figure at 0x7f9e6d323898>"
      ]
     },
     "metadata": {},
     "output_type": "display_data"
    }
   ],
   "source": [
    "import numpy\n",
    "import matplotlib.pyplot\n",
    "#imports the packages needed\n",
    "data = numpy.loadtxt(fname='python-novice-inflammation/data/inflammation-01.csv', delimiter=',')\n",
    "#sets the data\n",
    "fig = matplotlib.pyplot.figure(figsize=(10.0, 3.0))\n",
    "#says  how big to make the space, matplotlib.pyplot.figure makes a space to place all the plots\n",
    "axes1 = fig.add_subplot(1, 3, 1)\n",
    "axes2 = fig.add_subplot(1, 3, 2)\n",
    "axes3 = fig.add_subplot(1, 3, 3)\n",
    "#adds subplots to each axes/space, first param say how many rows of subplots, second to number of subplot columns, and then which subplot htis referes to left-right, top-bottom\n",
    "#each subplot stored in different variable [axes1, axes2, etc]\n",
    "#once created can set lables with axes1.setylable() or x label etc\n",
    "axes1.set_ylabel('average')\n",
    "axes1.set_ylim(0, max(numpy.mean(data, axis=0))+1)\n",
    "axes1.plot(numpy.mean(data, axis=0))\n",
    "\n",
    "axes2.set_ylabel('max')\n",
    "axes2.set_ylim(0, max(numpy.max(data, axis=0))+1)\n",
    "axes2.plot(numpy.max(data, axis=0))\n",
    "\n",
    "axes3.set_ylabel('min')\n",
    "axes3.set_ylim(0, max(numpy.min(data,axis=0))+1)\n",
    "axes3.plot(numpy.min(data, axis=0))\n",
    "\n",
    "fig.tight_layout()\n",
    "#this means that we wanta tight layout, but wierdly this is less squeezed than otherwise for this exampel\n",
    "\n",
    "matplotlib.pyplot.show()"
   ]
  },
  {
   "cell_type": "code",
   "execution_count": 71,
   "metadata": {
    "collapsed": false
   },
   "outputs": [
    {
     "data": {
      "image/png": "[encoded data removed]",
      "text/plain": [
       "<matplotlib.figure.Figure at 0x7f9e6dd30710>"
      ]
     },
     "metadata": {},
     "output_type": "display_data"
    }
   ],
   "source": [
    "####Drawing Straight Lines\n",
    "\n",
    "#the step function points are not vertical because the program interprets the input as a series of points and plots the slope between them\n",
    "\n",
    "import numpy\n",
    "import matplotlib.pyplot\n",
    "#imports the packages needed\n",
    "data = numpy.loadtxt(fname='python-novice-inflammation/data/inflammation-01.csv', delimiter=',')\n",
    "#sets the data\n",
    "fig = matplotlib.pyplot.figure(figsize=(10.0, 3.0))\n",
    "#says  how big to make the space, matplotlib.pyplot.figure makes a space to place all the plots\n",
    "axes1 = fig.add_subplot(1, 3, 1)\n",
    "axes2 = fig.add_subplot(1, 3, 2)\n",
    "axes3 = fig.add_subplot(1, 3, 3)\n",
    "#adds subplots to each axes/space, first param say how many rows of subplots, second to number of subplot columns, and then which subplot htis referes to left-right, top-bottom\n",
    "#each subplot stored in different variable [axes1, axes2, etc]\n",
    "#once created can set lables with axes1.setylable() or x label etc\n",
    "axes1.set_ylabel('average')\n",
    "axes1.set_ylim(0, max(numpy.mean(data, axis=0))+1)\n",
    "axes1.plot(numpy.mean(data, axis=0), drawstyle=\"steps-mid\")\n",
    "\n",
    "axes2.set_ylabel('max')\n",
    "axes2.set_ylim(0, max(numpy.max(data, axis=0))+1)\n",
    "axes2.plot(numpy.max(data, axis=0), drawstyle=\"steps-mid\")\n",
    "\n",
    "axes3.set_ylabel('min')\n",
    "axes3.set_ylim(0, max(numpy.min(data,axis=0))+1)\n",
    "axes3.plot(numpy.min(data, axis=0), drawstyle=\"steps-mid\")\n",
    "\n",
    "fig.tight_layout()\n",
    "#this means that we wanta tight layout, but wierdly this is less squeezed than otherwise for this exampel\n",
    "\n",
    "matplotlib.pyplot.show()\n"
   ]
  },
  {
   "cell_type": "code",
   "execution_count": 72,
   "metadata": {
    "collapsed": false
   },
   "outputs": [
    {
     "data": {
      "image/png": "[encoded data removed]",
      "text/plain": [
       "<matplotlib.figure.Figure at 0x7f9e6c788400>"
      ]
     },
     "metadata": {},
     "output_type": "display_data"
    }
   ],
   "source": [
    "####Make Your Own Plot\n",
    "\n",
    "#want create a plot showign standard deviation, numpy.std of inflamation data across each day for all patients\n",
    "#days are in rows, so axis=0\n",
    "#so numpy.std(data, axis=0)\n",
    "\n",
    "stdev_plot=matplotlib.pyplot.plot(numpy.std(data,axis=0))\n",
    "matplotlib.pyplot.show()"
   ]
  },
  {
   "cell_type": "code",
   "execution_count": 83,
   "metadata": {
    "collapsed": false,
    "scrolled": true
   },
   "outputs": [
    {
     "data": {
      "image/png": "[encoded data removed]",
      "text/plain": [
       "<matplotlib.figure.Figure at 0x7f9e6c6e7f28>"
      ]
     },
     "metadata": {},
     "output_type": "display_data"
    }
   ],
   "source": [
    "###Moving Plots Around\n",
    "\n",
    "import numpy\n",
    "import matplotlib.pyplot\n",
    "#imports the packages needed\n",
    "data = numpy.loadtxt(fname='python-novice-inflammation/data/inflammation-01.csv', delimiter=',')\n",
    "#sets the data\n",
    "\n",
    "##should swap the dimensions of the graph\n",
    "fig = matplotlib.pyplot.figure(figsize=(7.0, 6.0))\n",
    "#says  how big to make the space, matplotlib.pyplot.figure makes a space to place all the plots\n",
    "axes1 = fig.add_subplot(3, 1, 1)\n",
    "axes2 = fig.add_subplot(3, 1, 2)\n",
    "axes3 = fig.add_subplot(3, 1, 3)\n",
    "#they said to swap the parameters, I just made it plot to the same axes\n",
    "#so they want them to be stcked ontop of each other\n",
    "\n",
    "\n",
    "#adds subplots to each axes/space, first param say how many rows of subplots, second to number of subplot columns, and then which subplot htis referes to left-right, top-bottom\n",
    "#each subplot stored in different variable [axes1, axes2, etc]\n",
    "#once created can set lables with axes1.setylable() or x label etc\n",
    "\n",
    "axes1.set_ylabel('average')\n",
    "axes1.set_ylim(0, max(numpy.mean(data, axis=0))+1)\n",
    "axes1.plot(numpy.mean(data, axis=0), drawstyle=\"steps-mid\")\n",
    "\n",
    "axes2.set_ylabel('max')\n",
    "axes2.set_ylim(0, max(numpy.max(data, axis=0))+1)\n",
    "axes2.plot(numpy.max(data, axis=0), drawstyle=\"steps-mid\")\n",
    "\n",
    "axes3.set_ylabel('min')\n",
    "axes3.set_ylim(0, max(numpy.min(data,axis=0))+1)\n",
    "axes3.plot(numpy.min(data, axis=0), drawstyle=\"steps-mid\")\n",
    "\n",
    "fig.tight_layout()\n",
    "matplotlib.pyplot.show()"
   ]
  },
  {
   "cell_type": "code",
   "execution_count": 84,
   "metadata": {
    "collapsed": false
   },
   "outputs": [
    {
     "name": "stdout",
     "output_type": "stream",
     "text": [
      "A = \n",
      "[[1 2 3]\n",
      " [4 5 6]\n",
      " [7 8 9]]\n",
      "B = \n",
      "[[1 2 3 1 2 3]\n",
      " [4 5 6 4 5 6]\n",
      " [7 8 9 7 8 9]]\n",
      "C= \n",
      "[[1 2 3]\n",
      " [4 5 6]\n",
      " [7 8 9]\n",
      " [1 2 3]\n",
      " [4 5 6]\n",
      " [7 8 9]]\n"
     ]
    }
   ],
   "source": [
    "import numpy\n",
    "A=numpy.array([[1,2,3], [4,5,6], [7,8,9]])\n",
    "print(\"A = \")\n",
    "print(A)\n",
    "\n",
    "B=numpy.hstack([A, A])\n",
    "print('B = ')\n",
    "print(B)\n",
    "\n",
    "C=numpy.vstack([A, A])\n",
    "print('C= ')\n",
    "print(C)\n"
   ]
  },
  {
   "cell_type": "code",
   "execution_count": 105,
   "metadata": {
    "collapsed": false
   },
   "outputs": [
    {
     "name": "stdout",
     "output_type": "stream",
     "text": [
      "D= \n",
      "[[1 3]\n",
      " [4 6]\n",
      " [7 9]]\n"
     ]
    }
   ],
   "source": [
    "D = numpy.hstack([A[:, 0:1], A[:, 2:]])\n",
    "print('D= ')\n",
    "print(D)"
   ]
  },
  {
   "cell_type": "code",
   "execution_count": 107,
   "metadata": {
    "collapsed": false
   },
   "outputs": [
    {
     "name": "stdout",
     "output_type": "stream",
     "text": [
      "D= \n",
      "[[1 3]\n",
      " [4 6]\n",
      " [7 9]]\n"
     ]
    }
   ],
   "source": [
    "#Alternate method\n",
    "?numpy.delete()\n",
    "D=numpy.delete(A, 1, 1)\n",
    "print(\"D= \")\n",
    "print(D)"
   ]
  },
  {
   "cell_type": "code",
   "execution_count": null,
   "metadata": {
    "collapsed": true
   },
   "outputs": [],
   "source": []
  }
 ],
 "metadata": {
  "anaconda-cloud": {},
  "kernelspec": {
   "display_name": "Python [default]",
   "language": "python",
   "name": "python3"
  },
  "language_info": {
   "codemirror_mode": {
    "name": "ipython",
    "version": 3
   },
   "file_extension": ".py",
   "mimetype": "text/x-python",
   "name": "python",
   "nbconvert_exporter": "python",
   "pygments_lexer": "ipython3",
   "version": "3.5.2"
  }
 },
 "nbformat": 4,
 "nbformat_minor": 2
}
