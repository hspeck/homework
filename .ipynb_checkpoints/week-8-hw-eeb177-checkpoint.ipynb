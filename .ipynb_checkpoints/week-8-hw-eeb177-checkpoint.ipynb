{
 "cells": [
  {
   "cell_type": "code",
   "execution_count": 1,
   "metadata": {
    "collapsed": true
   },
   "outputs": [],
   "source": [
    "#opening the file\n",
    "in_file = '/home/eeb177-student/Desktop/eeb-177/class-assignments/canids/cleaned_canids.csv'\n",
    "with open(in_file, \"r\") as ff:\n",
    "    canid_recs = ff.readlines()"
   ]
  },
  {
   "cell_type": "markdown",
   "metadata": {},
   "source": [
    "# 1a"
   ]
  },
  {
   "cell_type": "markdown",
   "metadata": {},
   "source": [
    "### 1a.1 get rid of quotes from species names"
   ]
  },
  {
   "cell_type": "code",
   "execution_count": 37,
   "metadata": {
    "collapsed": true
   },
   "outputs": [],
   "source": [
    "output_file = open(\"cleaned_canid_recs.csv\", \"w\")\n",
    "for line in canid_recs:\n",
    "    \n",
    "    output_file.write(line.replace('\"', '')) # gets rid of the quotes\n",
    "\n",
    "output_file.close()"
   ]
  },
  {
   "cell_type": "markdown",
   "metadata": {},
   "source": [
    "### 1a.2 Sort output so species listed alphabetically\n"
   ]
  },
  {
   "cell_type": "code",
   "execution_count": 15,
   "metadata": {
    "collapsed": false,
    "scrolled": true
   },
   "outputs": [],
   "source": [
    "with open(\"cleaned_canid_recs.csv\", \"r\") as hh:\n",
    "    canid_csv = hh.readlines()\n",
    "    #opens file to be read\n",
    "    \n",
    "def sort_by_sci_name(entry):\n",
    "    return(entry.split(\",\")[5])\n",
    "    #says to split each entry of list and returens sci_name\n",
    "    \n",
    "sorted_csv = sorted(canid_csv, key = sort_by_sci_name)   #uses this to sort by 5th entry of the element\n",
    "\n",
    "output_file = open(\"formated_canids.csv\", \"w\")\n",
    "for line in sorted_csv:\n",
    "    output_file.write(line)\n",
    "    \n",
    "output_file.close()"
   ]
  },
  {
   "cell_type": "markdown",
   "metadata": {},
   "source": [
    "### 1.a.3\n",
    "write function doing the following\n",
    "    1. take a file name as argument\n",
    "    2. opens the file that is formated like cleaned version of canid file we made in shell in class\n",
    "    3. extracts species name for each species\n",
    "    4. ignores records that have only the genus recorded\n",
    "    5. populates dictionary where species are keys and values are ages of fossil known for each species\n",
    "    6. returns the dictionary"
   ]
  },
  {
   "cell_type": "code",
   "execution_count": 39,
   "metadata": {
    "collapsed": false,
    "scrolled": true
   },
   "outputs": [],
   "source": [
    "def fossil_dict_maker(csv_file):\n",
    "    from collections import defaultdict\n",
    "    #imports the required function for defaultdicts\n",
    "\n",
    "    \n",
    "    with open(csv_file, \"r\") as aa:\n",
    "        csv_data = aa.readlines()\n",
    "        #opens the file\n",
    "        \n",
    "    species_ranges = defaultdict(list)\n",
    "    #makes an empty default dict accepting lists for us to fill\n",
    "    \n",
    "    for line in csv_data:\n",
    "        sci_name = line.split(\",\")[5] #grabs the column including the sci name\n",
    "        if len(sci_name.split(\" \")) > 1: #checks is there are more than one element in the name\n",
    "            species = sci_name #gives the species name \n",
    "            min_age = float(line.split(\",\")[10]) #min age\n",
    "            max_age = float(line.split(\",\")[11]) #max age\n",
    "            mean_age = (min_age + max_age)/2 #calculates mean ages of occurence\n",
    "            \n",
    "            species_ranges[species].append(mean_age)\n",
    "    return species_ranges"
   ]
  },
  {
   "cell_type": "code",
   "execution_count": 43,
   "metadata": {
    "collapsed": false,
    "scrolled": true
   },
   "outputs": [],
   "source": [
    "canid_ages_dict = fossil_dict_maker(\"formated_canids.csv\")"
   ]
  },
  {
   "cell_type": "markdown",
   "metadata": {},
   "source": [
    "## 1.a.4\n",
    "write a second function doing the following\n",
    "    1. Takes a dictionary name and output file name as arguements\n",
    "    2. opens a file for writing given the name in the arguement\n",
    "    3. determines the minimum and maximum fossil age for each species in the parsed dictionary \n",
    "    4. writes to the output file a csv with the following fields\n",
    "    genus, species, minage, maxage"
   ]
  },
  {
   "cell_type": "code",
   "execution_count": 70,
   "metadata": {
    "collapsed": false
   },
   "outputs": [],
   "source": [
    "# get oldest and youngest range of fossils from each species\n",
    "\n",
    "def summarize_occurences(species_dict, outputfilename):\n",
    "    output = open(str(outputfilename), \"w\")\n",
    "    for key in sorted(species_dict.keys()): #adding sorted keeps the output file alphabetical, as we will write the file in an alphabetical order\n",
    "        ages = species_dict[key]\n",
    "        maxage = max(ages)\n",
    "        minage = min(ages)\n",
    "        genus = key.split(\" \")[0] # grabs the first word in the key\n",
    "        species =key.replace(\" \", \"_\") # grabs the key and makes it the species, replaces the blanks between names with a  \"_\" \n",
    "        outline = \"{},{},{},{}\\n\".format(genus, species, minage, maxage)\n",
    "        output.write(outline)\n",
    "    output.close()"
   ]
  },
  {
   "cell_type": "code",
   "execution_count": 71,
   "metadata": {
    "collapsed": false
   },
   "outputs": [],
   "source": [
    "summarize_occurences(canid_ages_dict, \"canid-ranges.csv\")"
   ]
  },
  {
   "cell_type": "markdown",
   "metadata": {},
   "source": [
    "## 1.a.5\n",
    "Write a third function that finds the species with the longest fossil record in a dictionary"
   ]
  },
  {
   "cell_type": "code",
   "execution_count": 102,
   "metadata": {
    "collapsed": false
   },
   "outputs": [],
   "source": [
    "def find_longest_record(fossil_rec_dict):\n",
    "    taxa_list = sorted(fossil_rec_dict.keys())\n",
    "    longest_taxon = \"\"\n",
    "    longest_duration = 0\n",
    "    for taxa in taxa_list:\n",
    "        ages = fossil_rec_dict[taxa]\n",
    "        maxage = max(ages)\n",
    "        minage = min(ages)\n",
    "        duration = (maxage - minage)\n",
    "        if duration > longest_duration:\n",
    "            longest_duration = duration\n",
    "            longest_taxon = taxa\n",
    "    output_line = longest_taxon + \" \" + str(longest_duration)\n",
    "    return output_line\n",
    "    "
   ]
  },
  {
   "cell_type": "code",
   "execution_count": 103,
   "metadata": {
    "collapsed": false
   },
   "outputs": [
    {
     "data": {
      "text/plain": [
       "'Cormocyon copei 14.368500000000001'"
      ]
     },
     "execution_count": 103,
     "metadata": {},
     "output_type": "execute_result"
    }
   ],
   "source": [
    "find_longest_record(canid_ages_dict)"
   ]
  },
  {
   "cell_type": "markdown",
   "metadata": {},
   "source": [
    "# 1b. Visualization\n"
   ]
  },
  {
   "cell_type": "markdown",
   "metadata": {},
   "source": [
    "In R markdown Notebook"
   ]
  },
  {
   "cell_type": "markdown",
   "metadata": {},
   "source": [
    "## 1b.8\n",
    "repeat for a different clade\n",
    "\n",
    "My choice:\n",
    "Nautilaceae"
   ]
  },
  {
   "cell_type": "code",
   "execution_count": 107,
   "metadata": {
    "collapsed": true
   },
   "outputs": [],
   "source": [
    "#opening the file\n",
    "in_file = '/home/eeb177-student/Desktop/eeb-177/homework/trimmed_nautilaceae.csv'\n",
    "with open(in_file, \"r\") as ff:\n",
    "    nautilus_recs = ff.readlines()"
   ]
  },
  {
   "cell_type": "code",
   "execution_count": 109,
   "metadata": {
    "collapsed": false
   },
   "outputs": [],
   "source": [
    "#format the data\n",
    "\n",
    "output_file = open(\"cleaned_nautilus_recs.csv\", \"w\")\n",
    "for line in nautilus_recs:\n",
    "    \n",
    "    output_file.write(line.replace('\"', '')) # gets rid of the quotes\n",
    "\n",
    "output_file.close()\n",
    "\n",
    "with open(\"cleaned_nautilus_recs.csv\", \"r\") as hh:\n",
    "    nautilus_csv = hh.readlines()\n",
    "    #opens file to be read\n",
    "    \n",
    "def sort_by_sci_name(entry):\n",
    "    return(entry.split(\",\")[5])\n",
    "    #says to split each entry of list and returens sci_name\n",
    "    \n",
    "sorted_csv = sorted(nautilus_csv, key = sort_by_sci_name)   #uses this to sort by 5th entry of the element\n",
    "\n",
    "output_file = open(\"formated_nautilus.csv\", \"w\")\n",
    "for line in sorted_csv:\n",
    "    output_file.write(line)\n",
    "    \n",
    "output_file.close()"
   ]
  },
  {
   "cell_type": "code",
   "execution_count": 110,
   "metadata": {
    "collapsed": true
   },
   "outputs": [],
   "source": [
    "nautilus_age_dict = fossil_dict_maker(\"formated_nautilus.csv\")"
   ]
  },
  {
   "cell_type": "code",
   "execution_count": 114,
   "metadata": {
    "collapsed": false
   },
   "outputs": [],
   "source": [
    "summarize_occurences(nautilus_age_dict, \"nautilaceae-range.csv\")"
   ]
  },
  {
   "cell_type": "code",
   "execution_count": 115,
   "metadata": {
    "collapsed": false
   },
   "outputs": [
    {
     "data": {
      "text/plain": [
       "'Eutrephoceras charpentieri 55.85000000000001'"
      ]
     },
     "execution_count": 115,
     "metadata": {},
     "output_type": "execute_result"
    }
   ],
   "source": [
    "find_longest_record(nautilus_age_dict)"
   ]
  },
  {
   "cell_type": "markdown",
   "metadata": {},
   "source": [
    "Visualization in the R markdown"
   ]
  }
 ],
 "metadata": {
  "anaconda-cloud": {},
  "kernelspec": {
   "display_name": "Python [default]",
   "language": "python",
   "name": "python3"
  },
  "language_info": {
   "codemirror_mode": {
    "name": "ipython",
    "version": 3
   },
   "file_extension": ".py",
   "mimetype": "text/x-python",
   "name": "python",
   "nbconvert_exporter": "python",
   "pygments_lexer": "ipython3",
   "version": "3.5.2"
  }
 },
 "nbformat": 4,
 "nbformat_minor": 2
}
