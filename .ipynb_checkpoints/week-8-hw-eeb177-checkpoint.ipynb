{
 "cells": [
  {
   "cell_type": "code",
   "execution_count": 1,
   "metadata": {
    "collapsed": true
   },
   "outputs": [],
   "source": [
    "#opening the file\n",
    "in_file = '/home/eeb177-student/Desktop/eeb-177/class-assignments/canids/cleaned_canids.csv'\n",
    "with open(in_file, \"r\") as ff:\n",
    "    canid_recs = ff.readlines()"
   ]
  },
  {
   "cell_type": "markdown",
   "metadata": {},
   "source": [
    "### 1.a.1 get rid of quotes from species names"
   ]
  },
  {
   "cell_type": "code",
   "execution_count": 37,
   "metadata": {
    "collapsed": true
   },
   "outputs": [],
   "source": [
    "output_file = open(\"cleaned_canid_recs.csv\", \"w\")\n",
    "for line in canid_recs:\n",
    "    \n",
    "    output_file.write(line.replace('\"', '')) # gets rid of the quotes\n",
    "\n",
    "output_file.close()"
   ]
  },
  {
   "cell_type": "markdown",
   "metadata": {},
   "source": [
    "### 1.a.2 Sort output so species listed alphabetically\n"
   ]
  },
  {
   "cell_type": "code",
   "execution_count": 15,
   "metadata": {
    "collapsed": false,
    "scrolled": true
   },
   "outputs": [],
   "source": [
    "with open(\"cleaned_canid_recs.csv\", \"r\") as hh:\n",
    "    canid_csv = hh.readlines()\n",
    "    #opens file to be read\n",
    "    \n",
    "def sort_by_sci_name(entry):\n",
    "    return(entry.split(\",\")[5])\n",
    "    #says to split each entry of list and returens sci_name\n",
    "    \n",
    "sorted_csv = sorted(canid_csv, key = sort_by_sci_name)   #uses this to sort by 5th entry of the element\n",
    "\n",
    "output_file = open(\"formated_canids.csv\", \"w\")\n",
    "for line in sorted_csv:\n",
    "    output_file.write(line)\n",
    "    \n",
    "output_file.close()"
   ]
  },
  {
   "cell_type": "markdown",
   "metadata": {},
   "source": [
    "### 1.a.3\n",
    "write function doing the following\n",
    "    1. take a file name as argument\n",
    "    2. opens the file that is formated like cleaned version of canid file we made in shell in class\n",
    "    3. extracts species name for each species\n",
    "    4. ignores records that have only the genus recorded\n",
    "    5. populates dictionary where species are keys and values are ages of fossil known for each species\n",
    "    6. returns the dictionary"
   ]
  },
  {
   "cell_type": "code",
   "execution_count": 1,
   "metadata": {
    "collapsed": false,
    "scrolled": true
   },
   "outputs": [],
   "source": []
  },
  {
   "cell_type": "code",
   "execution_count": null,
   "metadata": {
    "collapsed": false,
    "scrolled": true
   },
   "outputs": [],
   "source": []
  },
  {
   "cell_type": "code",
   "execution_count": null,
   "metadata": {
    "collapsed": true
   },
   "outputs": [],
   "source": []
  },
  {
   "cell_type": "code",
   "execution_count": 2,
   "metadata": {
    "collapsed": true
   },
   "outputs": [],
   "source": [
    "\n",
    "#let's make a dictionary, using defaultdict\n",
    "from collections import defaultdict\n",
    "\n",
    "species_ranges = defaultdict(list)\n",
    "for line in canid_recs:\n",
    "    species = line.split(\",\")[5]\n",
    "    min_age = float(line.split('\",\"')[10])\n",
    "    max_age = float(line.split('\",\"')[11])\n",
    "    \n",
    "    mean_age = (min_age + max_age)/2\n",
    "    \n",
    "    species_ranges[species].append(mean_age) #adds species as keys and mean ages as elements to list of ages\n",
    "    #print(mean_age)\n",
    "    "
   ]
  },
  {
   "cell_type": "markdown",
   "metadata": {},
   "source": [
    "### 1.a.1 get rid of quotes from species names"
   ]
  },
  {
   "cell_type": "code",
   "execution_count": 8,
   "metadata": {
    "collapsed": false
   },
   "outputs": [],
   "source": [
    "# get oldest and youngest range of fossils from each species\n",
    "\n",
    "output = open(\"canid-ranges.csv\", \"w\")\n",
    "\n",
    "for key in species_ranges.keys():\n",
    "    ages = species_ranges[key]\n",
    "    maxage = max(ages)\n",
    "    minage = min(ages)\n",
    "    genus = key.split(\" \")[0].strip('\"') # gets rid of the \"s\n",
    "    species =key.strip('\"') #gets rid of the \"s\n",
    "    outline = \"{},{},{},{}\\n\".format(genus, species, minage, maxage)\n",
    "    output.write(outline)\n",
    "\n",
    "output.close()"
   ]
  },
  {
   "cell_type": "markdown",
   "metadata": {},
   "source": [
    "### 1.a.2 Sort output so species listed alphabetically"
   ]
  },
  {
   "cell_type": "code",
   "execution_count": 22,
   "metadata": {
    "collapsed": false
   },
   "outputs": [],
   "source": []
  },
  {
   "cell_type": "code",
   "execution_count": null,
   "metadata": {
    "collapsed": true
   },
   "outputs": [],
   "source": []
  }
 ],
 "metadata": {
  "anaconda-cloud": {},
  "kernelspec": {
   "display_name": "Python [default]",
   "language": "python",
   "name": "python3"
  },
  "language_info": {
   "codemirror_mode": {
    "name": "ipython",
    "version": 3
   },
   "file_extension": ".py",
   "mimetype": "text/x-python",
   "name": "python",
   "nbconvert_exporter": "python",
   "pygments_lexer": "ipython3",
   "version": "3.5.2"
  }
 },
 "nbformat": 4,
 "nbformat_minor": 2
}
