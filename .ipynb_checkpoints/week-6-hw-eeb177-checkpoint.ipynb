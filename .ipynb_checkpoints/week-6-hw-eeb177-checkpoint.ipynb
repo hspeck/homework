{
 "cells": [
  {
   "cell_type": "markdown",
   "metadata": {},
   "source": [
    "# Part I"
   ]
  },
  {
   "cell_type": "markdown",
   "metadata": {},
   "source": [
    "badge 1\n",
    "<img src=\"files/Screenshot python_syntax.png\">"
   ]
  },
  {
   "cell_type": "markdown",
   "metadata": {},
   "source": [
    "badge 2\n",
    "<img src= \"Screenshot strings and console output.png\">"
   ]
  },
  {
   "cell_type": "markdown",
   "metadata": {},
   "source": [
    "badge 3\n",
    "<img src=\"Screenshot control flow 2017-02-19 18-42-49.png\">"
   ]
  },
  {
   "cell_type": "markdown",
   "metadata": {},
   "source": [
    "badge 4\n",
    "<img src=\"files/Screenshot lists and functiosn 2017-02-19 21-53-10.png\">"
   ]
  },
  {
   "cell_type": "markdown",
   "metadata": {},
   "source": [
    "badge5<img src=\"files/Screenshot lists and dictionary 2017-02-19 20-36-32.png\">\n"
   ]
  },
  {
   "cell_type": "markdown",
   "metadata": {},
   "source": [
    "badge6\n",
    "<img src=\"files/Screenshot lists and functiosn 2017-02-19 21-53-10.png\">"
   ]
  },
  {
   "cell_type": "markdown",
   "metadata": {},
   "source": [
    "badge7\n",
    "<img src=\"files/Screenshot Loop 2017-02-19 22-52-04.png\">"
   ]
  },
  {
   "cell_type": "markdown",
   "metadata": {},
   "source": [
    "badge8\n",
    "<img src=\"files/Screenshot Practice 2017-02-20 01-13-35.png\">"
   ]
  },
  {
   "cell_type": "markdown",
   "metadata": {
    "collapsed": true
   },
   "source": [
    "# Part II"
   ]
  },
  {
   "cell_type": "markdown",
   "metadata": {},
   "source": [
    "We want to take a nucleic acid sequence and translate it to a protein sequence\n",
    "\n",
    "we are given a dicitonary in the chapter 8 exercises folder\n",
    "    contains the appropriate codon to base \n",
    "    \n",
    "Need to:\n",
    "    split the sequence into codons\n",
    "    look up amino acid corresponding to the sequence\n",
    "    join the amino acid residues together\n",
    "    \n",
    "Should be able to\n",
    "    cope with a sequence that doesn't have a multiple of 3 bases\n",
    "    cope with unknown bases\n",
    "\n",
    "Want to take a sequence:\n",
    "    split that sequence up into base triplets\n",
    "    for each triplet in sequence:\n",
    "        lookup corresponding amino acid(value) for each codon(key)\n",
    "        add amino acid to protein sequence\n",
    "    return or print full sequence"
   ]
  },
  {
   "cell_type": "code",
   "execution_count": 78,
   "metadata": {
    "collapsed": true
   },
   "outputs": [],
   "source": [
    "#here's the dictionary\n",
    "gencode = {\n",
    "    'ATA':'I', 'ATC':'I', 'ATT':'I', 'ATG':'M',\n",
    "    'ACA':'T', 'ACC':'T', 'ACG':'T', 'ACT':'T',\n",
    "    'AAC':'N', 'AAT':'N', 'AAA':'K', 'AAG':'K',\n",
    "    'AGC':'S', 'AGT':'S', 'AGA':'R', 'AGG':'R',\n",
    "    'CTA':'L', 'CTC':'L', 'CTG':'L', 'CTT':'L',\n",
    "    'CCA':'P', 'CCC':'P', 'CCG':'P', 'CCT':'P',\n",
    "    'CAC':'H', 'CAT':'H', 'CAA':'Q', 'CAG':'Q',\n",
    "    'CGA':'R', 'CGC':'R', 'CGG':'R', 'CGT':'R',\n",
    "    'GTA':'V', 'GTC':'V', 'GTG':'V', 'GTT':'V',\n",
    "    'GCA':'A', 'GCC':'A', 'GCG':'A', 'GCT':'A',\n",
    "    'GAC':'D', 'GAT':'D', 'GAA':'E', 'GAG':'E',\n",
    "    'GGA':'G', 'GGC':'G', 'GGG':'G', 'GGT':'G',\n",
    "    'TCA':'S', 'TCC':'S', 'TCG':'S', 'TCT':'S',\n",
    "    'TTC':'F', 'TTT':'F', 'TTA':'L', 'TTG':'L',\n",
    "    'TAC':'Y', 'TAT':'Y', 'TAA':'_', 'TAG':'_',\n",
    "    'TGC':'C', 'TGT':'C', 'TGA':'_', 'TGG':'W'}"
   ]
  },
  {
   "cell_type": "markdown",
   "metadata": {
    "collapsed": false
   },
   "source": [
    "```\n",
    "#split the sequence\n",
    "seq=\"ATGCTATPTCG\"\n",
    "\n",
    "def getcodon_seq(sequence):\n",
    "    codon=[]\n",
    "    codonseq=[]\n",
    "    for i in range(0, len(sequence), 3):\n",
    "        codon=seq[i:i+n]\n",
    "        codonseq.append(codon)\n",
    "    return(codonseq)\n",
    "\n",
    "zz=getcodon_seq(seq)\n",
    "```"
   ]
  },
  {
   "cell_type": "markdown",
   "metadata": {
    "collapsed": false
   },
   "source": [
    "~~~\n",
    "#look up the amino acid for the codon\n",
    "#adding the amino acids together\n",
    "#use an if statement to control if the codon is 3 or less\n",
    "#can use an if statement to return an X if the seq includes ambiguous bases\n",
    "def get_prot_seq(codon_sequence):\n",
    "    protein=\"\"\n",
    "    for codon in codon_sequence:\n",
    "        if len(codon)==3:\n",
    "            totalcount=0\n",
    "            for base in codon:\n",
    "                a_count=base.upper().count(\"A\")\n",
    "                g_count=base.upper().count(\"G\")\n",
    "                c_count=base.upper().count(\"C\")\n",
    "                t_count=base.upper().count(\"T\")\n",
    "                totalcount=totalcount+(a_count+g_count+c_count+t_count)\n",
    "            if totalcount!=3:\n",
    "                residue=\"X\"\n",
    "                protein=protein+residue\n",
    "            elif len(codon)==3:\n",
    "                residue=gencode[codon]\n",
    "                protein=protein+residue\n",
    "\n",
    "    print(protein)\n",
    "#this way gives an X if the bases are not the same as 3\n",
    "get_prot_seq(zz)\n",
    "\n",
    "~~~"
   ]
  },
  {
   "cell_type": "code",
   "execution_count": 79,
   "metadata": {
    "collapsed": false
   },
   "outputs": [],
   "source": [
    "#put it all together\n",
    "def translator(seq):\n",
    "    #takes an nucleotide sequence and prints the corresponding protein sequence\n",
    "    codonseq=[]\n",
    "    protein=\"\"  #setsup some holder variables we'll be adding to in the body of the code\n",
    "    for i in range(0, len(seq), 3):\n",
    "        codon=seq[i:i+n] #splits the input up by multiples of 3\n",
    "        codonseq.append(codon) #adds it to the list of codons, if not easily divisible will give either 1 or 2 codons left\n",
    "    for codon in codonseq:\n",
    "        if len(codon)==3:  #checks if the codon is actually 3 long, otherwise it won't print\n",
    "            totalcount=0\n",
    "            for base in codon:  #this loop and the following if condition check if the only thing in the sequence is canonical bases\n",
    "                a_count=base.upper().count(\"A\")\n",
    "                g_count=base.upper().count(\"G\")\n",
    "                c_count=base.upper().count(\"C\")\n",
    "                t_count=base.upper().count(\"T\")\n",
    "                totalcount=totalcount+(a_count+g_count+c_count+t_count)\n",
    "            if totalcount!=3:  #if noncanonical bases are present, the count will not be 3, and we'll put an X in the sequence\n",
    "                residue=\"X\"\n",
    "                protein=protein+residue\n",
    "            else:  #otherwise we'll submit it to the translator\n",
    "                #I guess the other way to do this would be to have that method we learnt with get\n",
    "                #i.e. get(codon, X) for something if we don't find it in the dictionary\n",
    "                #that is probably a more efficient way to do it\n",
    "                residue=gencode[codon]\n",
    "                protein=protein+residue\n",
    "    print(protein)"
   ]
  },
  {
   "cell_type": "code",
   "execution_count": 80,
   "metadata": {
    "collapsed": false
   },
   "outputs": [
    {
     "name": "stdout",
     "output_type": "stream",
     "text": [
      "MX\n",
      "XX\n",
      "RY\n"
     ]
    }
   ],
   "source": [
    "#testing it out\n",
    "seq=\"ATGzTG\"\n",
    "translator(seq)\n",
    "seq2=\"DINOSAUR\"\n",
    "translator(seq2)\n",
    "seq3=\"CGATATA\"\n",
    "translator(seq3)"
   ]
  },
  {
   "cell_type": "markdown",
   "metadata": {},
   "source": [
    "Seems to work fine"
   ]
  },
  {
   "cell_type": "markdown",
   "metadata": {},
   "source": [
    "# Part III"
   ]
  },
  {
   "cell_type": "markdown",
   "metadata": {},
   "source": [
    "### 4.3.2 example"
   ]
  },
  {
   "cell_type": "code",
   "execution_count": 81,
   "metadata": {
    "collapsed": true
   },
   "outputs": [],
   "source": [
    "import scipy\n",
    "\n",
    "def build_population(N, p):\n",
    "    population = []\n",
    "    for i in range (N):\n",
    "        allele1 = \"A\"\n",
    "        if scipy.random.rand() > p:\n",
    "            allele1 = \"a\"\n",
    "        allele2 = \"A\"\n",
    "        if scipy.random.rand() > p:\n",
    "            allele2 = \"a\"\n",
    "        population.append((allele1, allele2))\n",
    "    return population"
   ]
  },
  {
   "cell_type": "code",
   "execution_count": 82,
   "metadata": {
    "collapsed": false
   },
   "outputs": [
    {
     "data": {
      "text/plain": [
       "[('A', 'A'),\n",
       " ('A', 'A'),\n",
       " ('a', 'A'),\n",
       " ('A', 'a'),\n",
       " ('a', 'A'),\n",
       " ('A', 'A'),\n",
       " ('A', 'a'),\n",
       " ('a', 'A'),\n",
       " ('A', 'a'),\n",
       " ('a', 'A')]"
      ]
     },
     "execution_count": 82,
     "metadata": {},
     "output_type": "execute_result"
    }
   ],
   "source": [
    "build_population(10, 0.7)"
   ]
  },
  {
   "cell_type": "code",
   "execution_count": 85,
   "metadata": {
    "collapsed": false
   },
   "outputs": [],
   "source": [
    "def compute_frequencies(population):\n",
    "    AA=population.count((\"A\",\"A\"))\n",
    "    Aa=population.count((\"A\", \"a\"))\n",
    "    aA=population.count((\"a\", \"A\"))\n",
    "    aa=population.count((\"a\", \"a\"))\n",
    "    return ({\"AA\": AA, \"aa\": aa, \"Aa\": Aa, \"aA\": aA})"
   ]
  },
  {
   "cell_type": "code",
   "execution_count": 88,
   "metadata": {
    "collapsed": false
   },
   "outputs": [
    {
     "name": "stdout",
     "output_type": "stream",
     "text": [
      "[('A', 'A'), ('a', 'A'), ('A', 'A'), ('a', 'a'), ('a', 'A'), ('A', 'A')]\n"
     ]
    },
    {
     "data": {
      "text/plain": [
       "{'AA': 3, 'Aa': 0, 'aA': 2, 'aa': 1}"
      ]
     },
     "execution_count": 88,
     "metadata": {},
     "output_type": "execute_result"
    }
   ],
   "source": [
    "my_pop = build_population(6, 0.5)\n",
    "print(my_pop)\n",
    "compute_frequencies(my_pop)"
   ]
  },
  {
   "cell_type": "code",
   "execution_count": 91,
   "metadata": {
    "collapsed": true
   },
   "outputs": [],
   "source": [
    "def reproduce_population(population):\n",
    "    new_generation=[]\n",
    "    N=len(population)\n",
    "    for i in range(N):\n",
    "        dad=scipy.random.randint(N)\n",
    "        mom=scipy.random.randint(N)\n",
    "        chr_mom=scipy.random.randint(2)\n",
    "        offspring=(population[mom][chr_mom],population[dad][1-chr_mom])\n",
    "        new_generation.append(offspring)\n",
    "    return(new_generation)"
   ]
  },
  {
   "cell_type": "code",
   "execution_count": 92,
   "metadata": {
    "collapsed": false
   },
   "outputs": [
    {
     "data": {
      "text/plain": [
       "[('A', 'a'), ('A', 'a'), ('A', 'a'), ('a', 'a'), ('A', 'A'), ('A', 'A')]"
      ]
     },
     "execution_count": 92,
     "metadata": {},
     "output_type": "execute_result"
    }
   ],
   "source": [
    "reproduce_population(my_pop)"
   ]
  },
  {
   "cell_type": "code",
   "execution_count": 94,
   "metadata": {
    "collapsed": false
   },
   "outputs": [],
   "source": [
    "import drift"
   ]
  },
  {
   "cell_type": "code",
   "execution_count": 96,
   "metadata": {
    "collapsed": false
   },
   "outputs": [],
   "source": [
    "def simulate_drift(N, p):\n",
    "    my_pop=drift.build_population(N, p)\n",
    "    fixation=False\n",
    "    num_generations=0\n",
    "    while fixation==False:\n",
    "        genotype_counts=drift.compute_frequencies(my_pop)\n",
    "        if genotype_counts[\"AA\"]==N or genotype_counts==[\"aa\"]:\n",
    "            print(\"An allele reached fixation at generation\", num_generations)\n",
    "            print(\"The genotype counts are\")\n",
    "            print(genotype_counts)\n",
    "            fixation==True\n",
    "            break\n",
    "        my_pop = drift.reproduce_population(my_pop)\n",
    "        num_generations=num_generations + 1\n",
    "        "
   ]
  },
  {
   "cell_type": "code",
   "execution_count": null,
   "metadata": {
    "collapsed": true
   },
   "outputs": [],
   "source": [
    "simulate_drift(100, 0.5)"
   ]
  },
  {
   "cell_type": "code",
   "execution_count": null,
   "metadata": {
    "collapsed": true
   },
   "outputs": [],
   "source": [
    "simulate_drift(100, 0.9)"
   ]
  }
 ],
 "metadata": {
  "anaconda-cloud": {},
  "kernelspec": {
   "display_name": "Python [default]",
   "language": "python",
   "name": "python3"
  },
  "language_info": {
   "codemirror_mode": {
    "name": "ipython",
    "version": 3
   },
   "file_extension": ".py",
   "mimetype": "text/x-python",
   "name": "python",
   "nbconvert_exporter": "python",
   "pygments_lexer": "ipython3",
   "version": "3.5.2"
  }
 },
 "nbformat": 4,
 "nbformat_minor": 2
}
