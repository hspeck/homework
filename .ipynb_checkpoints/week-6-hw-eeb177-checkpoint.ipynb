{
 "cells": [
  {
   "cell_type": "markdown",
   "metadata": {},
   "source": [
    "# Part I"
   ]
  },
  {
   "cell_type": "markdown",
   "metadata": {},
   "source": [
    "badge 1\n",
    "<img src=\"files/Screenshot python_syntax.png\">"
   ]
  },
  {
   "cell_type": "markdown",
   "metadata": {},
   "source": [
    "badge 2\n",
    "<img src= \"Screenshot strings and console output.png\">"
   ]
  },
  {
   "cell_type": "markdown",
   "metadata": {},
   "source": [
    "badge 3\n",
    "<img src=\"Screenshot control flow 2017-02-19 18-42-49.png\">"
   ]
  },
  {
   "cell_type": "markdown",
   "metadata": {},
   "source": [
    "badge 4\n",
    "<img src=\"files/Screenshot lists and functiosn 2017-02-19 21-53-10.png\">"
   ]
  },
  {
   "cell_type": "markdown",
   "metadata": {},
   "source": [
    "badge5<img src=\"files/Screenshot lists and dictionary 2017-02-19 20-36-32.png\">\n"
   ]
  },
  {
   "cell_type": "markdown",
   "metadata": {},
   "source": [
    "badge6\n",
    "<img src=\"files/Screenshot lists and functiosn 2017-02-19 21-53-10.png\">"
   ]
  },
  {
   "cell_type": "markdown",
   "metadata": {},
   "source": [
    "badge7\n",
    "<img src=\"files/Screenshot Loop 2017-02-19 22-52-04.png\">"
   ]
  },
  {
   "cell_type": "markdown",
   "metadata": {},
   "source": [
    "badge8\n",
    "<img src=\"files/Screenshot Practice 2017-02-20 01-13-35.png\">"
   ]
  },
  {
   "cell_type": "markdown",
   "metadata": {
    "collapsed": true
   },
   "source": [
    "# Part II"
   ]
  },
  {
   "cell_type": "markdown",
   "metadata": {},
   "source": [
    "We want to take a nucleic acid sequence and translate it to a protein sequence\n",
    "\n",
    "we are given a dicitonary in the chapter 8 exercises folder\n",
    "    contains the appropriate codon to base \n",
    "    \n",
    "Need to:\n",
    "    split the sequence into codons\n",
    "    look up amino acid corresponding to the sequence\n",
    "    join the amino acid residues together\n",
    "    \n",
    "Should be able to\n",
    "    cope with a sequence that doesn't have a multiple of 3 bases\n",
    "    cope with unknown bases\n",
    "\n",
    "Want to take a sequence:\n",
    "    split that sequence up into base triplets\n",
    "    for each triplet in sequence:\n",
    "        lookup corresponding amino acid(value) for each codon(key)\n",
    "        add amino acid to protein sequence\n",
    "    return or print full sequence"
   ]
  },
  {
   "cell_type": "code",
   "execution_count": 78,
   "metadata": {
    "collapsed": true
   },
   "outputs": [],
   "source": [
    "#here's the dictionary\n",
    "gencode = {\n",
    "    'ATA':'I', 'ATC':'I', 'ATT':'I', 'ATG':'M',\n",
    "    'ACA':'T', 'ACC':'T', 'ACG':'T', 'ACT':'T',\n",
    "    'AAC':'N', 'AAT':'N', 'AAA':'K', 'AAG':'K',\n",
    "    'AGC':'S', 'AGT':'S', 'AGA':'R', 'AGG':'R',\n",
    "    'CTA':'L', 'CTC':'L', 'CTG':'L', 'CTT':'L',\n",
    "    'CCA':'P', 'CCC':'P', 'CCG':'P', 'CCT':'P',\n",
    "    'CAC':'H', 'CAT':'H', 'CAA':'Q', 'CAG':'Q',\n",
    "    'CGA':'R', 'CGC':'R', 'CGG':'R', 'CGT':'R',\n",
    "    'GTA':'V', 'GTC':'V', 'GTG':'V', 'GTT':'V',\n",
    "    'GCA':'A', 'GCC':'A', 'GCG':'A', 'GCT':'A',\n",
    "    'GAC':'D', 'GAT':'D', 'GAA':'E', 'GAG':'E',\n",
    "    'GGA':'G', 'GGC':'G', 'GGG':'G', 'GGT':'G',\n",
    "    'TCA':'S', 'TCC':'S', 'TCG':'S', 'TCT':'S',\n",
    "    'TTC':'F', 'TTT':'F', 'TTA':'L', 'TTG':'L',\n",
    "    'TAC':'Y', 'TAT':'Y', 'TAA':'_', 'TAG':'_',\n",
    "    'TGC':'C', 'TGT':'C', 'TGA':'_', 'TGG':'W'}"
   ]
  },
  {
   "cell_type": "markdown",
   "metadata": {
    "collapsed": false
   },
   "source": [
    "```\n",
    "#split the sequence\n",
    "seq=\"ATGCTATPTCG\"\n",
    "\n",
    "def getcodon_seq(sequence):\n",
    "    codon=[]\n",
    "    codonseq=[]\n",
    "    for i in range(0, len(sequence), 3):\n",
    "        codon=seq[i:i+n]\n",
    "        codonseq.append(codon)\n",
    "    return(codonseq)\n",
    "\n",
    "zz=getcodon_seq(seq)\n",
    "```"
   ]
  },
  {
   "cell_type": "markdown",
   "metadata": {
    "collapsed": false
   },
   "source": [
    "~~~\n",
    "#look up the amino acid for the codon\n",
    "#adding the amino acids together\n",
    "#use an if statement to control if the codon is 3 or less\n",
    "#can use an if statement to return an X if the seq includes ambiguous bases\n",
    "def get_prot_seq(codon_sequence):\n",
    "    protein=\"\"\n",
    "    for codon in codon_sequence:\n",
    "        if len(codon)==3:\n",
    "            totalcount=0\n",
    "            for base in codon:\n",
    "                a_count=base.upper().count(\"A\")\n",
    "                g_count=base.upper().count(\"G\")\n",
    "                c_count=base.upper().count(\"C\")\n",
    "                t_count=base.upper().count(\"T\")\n",
    "                totalcount=totalcount+(a_count+g_count+c_count+t_count)\n",
    "            if totalcount!=3:\n",
    "                residue=\"X\"\n",
    "                protein=protein+residue\n",
    "            elif len(codon)==3:\n",
    "                residue=gencode[codon]\n",
    "                protein=protein+residue\n",
    "\n",
    "    print(protein)\n",
    "#this way gives an X if the bases are not the same as 3\n",
    "get_prot_seq(zz)\n",
    "\n",
    "~~~"
   ]
  },
  {
   "cell_type": "code",
   "execution_count": 79,
   "metadata": {
    "collapsed": false
   },
   "outputs": [],
   "source": [
    "#put it all together\n",
    "def translator(seq):\n",
    "    #takes an nucleotide sequence and prints the corresponding protein sequence\n",
    "    codonseq=[]\n",
    "    protein=\"\"  #setsup some holder variables we'll be adding to in the body of the code\n",
    "    for i in range(0, len(seq), 3):\n",
    "        codon=seq[i:i+n] #splits the input up by multiples of 3\n",
    "        codonseq.append(codon) #adds it to the list of codons, if not easily divisible will give either 1 or 2 codons left\n",
    "    for codon in codonseq:\n",
    "        if len(codon)==3:  #checks if the codon is actually 3 long, otherwise it won't print\n",
    "            totalcount=0\n",
    "            for base in codon:  #this loop and the following if condition check if the only thing in the sequence is canonical bases\n",
    "                a_count=base.upper().count(\"A\")\n",
    "                g_count=base.upper().count(\"G\")\n",
    "                c_count=base.upper().count(\"C\")\n",
    "                t_count=base.upper().count(\"T\")\n",
    "                totalcount=totalcount+(a_count+g_count+c_count+t_count)\n",
    "            if totalcount!=3:  #if noncanonical bases are present, the count will not be 3, and we'll put an X in the sequence\n",
    "                residue=\"X\"\n",
    "                protein=protein+residue\n",
    "            else:  #otherwise we'll submit it to the translator\n",
    "                #I guess the other way to do this would be to have that method we learnt with get\n",
    "                #i.e. get(codon, X) for something if we don't find it in the dictionary\n",
    "                #that is probably a more efficient way to do it\n",
    "                residue=gencode[codon]\n",
    "                protein=protein+residue\n",
    "    print(protein)"
   ]
  },
  {
   "cell_type": "code",
   "execution_count": 80,
   "metadata": {
    "collapsed": false
   },
   "outputs": [
    {
     "name": "stdout",
     "output_type": "stream",
     "text": [
      "MX\n",
      "XX\n",
      "RY\n"
     ]
    }
   ],
   "source": [
    "#testing it out\n",
    "seq=\"ATGzTG\"\n",
    "translator(seq)\n",
    "seq2=\"DINOSAUR\"\n",
    "translator(seq2)\n",
    "seq3=\"CGATATA\"\n",
    "translator(seq3)"
   ]
  },
  {
   "cell_type": "markdown",
   "metadata": {},
   "source": [
    "Seems to work fine"
   ]
  },
  {
   "cell_type": "markdown",
   "metadata": {},
   "source": [
    "# Part III"
   ]
  },
  {
   "cell_type": "markdown",
   "metadata": {},
   "source": [
    "### 4.3.2 example"
   ]
  },
  {
   "cell_type": "code",
   "execution_count": 81,
   "metadata": {
    "collapsed": true
   },
   "outputs": [],
   "source": [
    "import scipy\n",
    "\n",
    "def build_population(N, p):\n",
    "    population = []\n",
    "    for i in range (N):\n",
    "        allele1 = \"A\"\n",
    "        if scipy.random.rand() > p:\n",
    "            allele1 = \"a\"\n",
    "        allele2 = \"A\"\n",
    "        if scipy.random.rand() > p:\n",
    "            allele2 = \"a\"\n",
    "        population.append((allele1, allele2))\n",
    "    return population"
   ]
  },
  {
   "cell_type": "code",
   "execution_count": 82,
   "metadata": {
    "collapsed": false
   },
   "outputs": [
    {
     "data": {
      "text/plain": [
       "[('A', 'A'),\n",
       " ('A', 'A'),\n",
       " ('a', 'A'),\n",
       " ('A', 'a'),\n",
       " ('a', 'A'),\n",
       " ('A', 'A'),\n",
       " ('A', 'a'),\n",
       " ('a', 'A'),\n",
       " ('A', 'a'),\n",
       " ('a', 'A')]"
      ]
     },
     "execution_count": 82,
     "metadata": {},
     "output_type": "execute_result"
    }
   ],
   "source": [
    "build_population(10, 0.7)"
   ]
  },
  {
   "cell_type": "code",
   "execution_count": 85,
   "metadata": {
    "collapsed": false
   },
   "outputs": [],
   "source": [
    "def compute_frequencies(population):\n",
    "    AA=population.count((\"A\",\"A\"))\n",
    "    Aa=population.count((\"A\", \"a\"))\n",
    "    aA=population.count((\"a\", \"A\"))\n",
    "    aa=population.count((\"a\", \"a\"))\n",
    "    return ({\"AA\": AA, \"aa\": aa, \"Aa\": Aa, \"aA\": aA})"
   ]
  },
  {
   "cell_type": "code",
   "execution_count": 88,
   "metadata": {
    "collapsed": false
   },
   "outputs": [
    {
     "name": "stdout",
     "output_type": "stream",
     "text": [
      "[('A', 'A'), ('a', 'A'), ('A', 'A'), ('a', 'a'), ('a', 'A'), ('A', 'A')]\n"
     ]
    },
    {
     "data": {
      "text/plain": [
       "{'AA': 3, 'Aa': 0, 'aA': 2, 'aa': 1}"
      ]
     },
     "execution_count": 88,
     "metadata": {},
     "output_type": "execute_result"
    }
   ],
   "source": [
    "my_pop = build_population(6, 0.5)\n",
    "print(my_pop)\n",
    "compute_frequencies(my_pop)"
   ]
  },
  {
   "cell_type": "code",
   "execution_count": 91,
   "metadata": {
    "collapsed": true
   },
   "outputs": [],
   "source": [
    "def reproduce_population(population):\n",
    "    new_generation=[]\n",
    "    N=len(population)\n",
    "    for i in range(N):\n",
    "        dad=scipy.random.randint(N)\n",
    "        mom=scipy.random.randint(N)\n",
    "        chr_mom=scipy.random.randint(2)\n",
    "        offspring=(population[mom][chr_mom],population[dad][1-chr_mom])\n",
    "        new_generation.append(offspring)\n",
    "    return(new_generation)"
   ]
  },
  {
   "cell_type": "code",
   "execution_count": 92,
   "metadata": {
    "collapsed": false
   },
   "outputs": [
    {
     "data": {
      "text/plain": [
       "[('A', 'a'), ('A', 'a'), ('A', 'a'), ('a', 'a'), ('A', 'A'), ('A', 'A')]"
      ]
     },
     "execution_count": 92,
     "metadata": {},
     "output_type": "execute_result"
    }
   ],
   "source": [
    "reproduce_population(my_pop)"
   ]
  },
  {
   "cell_type": "code",
   "execution_count": 3,
   "metadata": {
    "collapsed": false
   },
   "outputs": [],
   "source": [
    "import drift"
   ]
  },
  {
   "cell_type": "code",
   "execution_count": 4,
   "metadata": {
    "collapsed": false
   },
   "outputs": [],
   "source": [
    "def simulate_drift(N, p):\n",
    "    my_pop=drift.build_population(N, p)\n",
    "    fixation=False\n",
    "    num_generations=0\n",
    "    while fixation==False:\n",
    "        genotype_counts=drift.compute_frequencies(my_pop)\n",
    "        if genotype_counts[\"AA\"] == N or genotype_counts[\"aa\"] == N:\n",
    "            print(\"An allele reached fixation at generation\", num_generations)\n",
    "            print(\"The genotype counts are\")\n",
    "            print(genotype_counts)\n",
    "            fixation==True\n",
    "            break\n",
    "        my_pop = drift.reproduce_population(my_pop)\n",
    "        num_generations=num_generations + 1\n",
    "        "
   ]
  },
  {
   "cell_type": "code",
   "execution_count": 7,
   "metadata": {
    "collapsed": false
   },
   "outputs": [
    {
     "name": "stdout",
     "output_type": "stream",
     "text": [
      "An allele reached fixation at generation 1244\n",
      "The genotype counts are\n",
      "{'Aa': 0, 'aa': 0, 'aA': 0, 'AA': 100}\n"
     ]
    }
   ],
   "source": [
    "simulate_drift(100, 0.5)"
   ]
  },
  {
   "cell_type": "code",
   "execution_count": 8,
   "metadata": {
    "collapsed": false
   },
   "outputs": [
    {
     "name": "stdout",
     "output_type": "stream",
     "text": [
      "An allele reached fixation at generation 59\n",
      "The genotype counts are\n",
      "{'Aa': 0, 'aa': 0, 'aA': 0, 'AA': 100}\n"
     ]
    }
   ],
   "source": [
    "simulate_drift(100, 0.9)"
   ]
  },
  {
   "cell_type": "markdown",
   "metadata": {},
   "source": [
    "### 4.9.2.1"
   ]
  },
  {
   "cell_type": "code",
   "execution_count": 137,
   "metadata": {
    "collapsed": true
   },
   "outputs": [],
   "source": [
    "Jiang_et_al=open(\"/home/eeb177-student/Desktop/eeb-177/CSB/python/data/Jiang2013_data.csv\")\n",
    "Jiang_data=Jiang_et_al.readlines()"
   ]
  },
  {
   "cell_type": "code",
   "execution_count": null,
   "metadata": {
    "collapsed": false
   },
   "outputs": [],
   "source": []
  },
  {
   "cell_type": "markdown",
   "metadata": {},
   "source": [
    "#want a function that takes an input of Taxon and gives mean value of r\n",
    "\n",
    "can use split to break up the output\n",
    "    the file is separated by \\t\n",
    "    taxon is in the 2nd field, aka index 1 when it is split up\n",
    "    r is in 4th field, aka index 3\n",
    "    \n",
    "want to add up r and divide by the total number of taxa\n",
    "\n",
    "if taxon of line = fish\n",
    "    add the r -value to the r value tracker\n",
    "```\n",
    "for line in Jiang_data:\n",
    "    Set r_total=0\n",
    "    set taxa_total=0\n",
    "    if taxon == \"Fish\":\n",
    "        r_total=rtotal+r for this line\n",
    "        taxa_total=taxa_total+1\n",
    "```        \n",
    "substitute taxon and r for the line, split by \\t and calling appropriate function\n",
    "may want to make the numbers explicitly floats to avoid math complications down the line"
   ]
  },
  {
   "cell_type": "markdown",
   "metadata": {},
   "source": [
    "for line in Jiang_data:\n",
    "    print(line.split(\"\\t\")[3])"
   ]
  },
  {
   "cell_type": "code",
   "execution_count": 7,
   "metadata": {
    "collapsed": false
   },
   "outputs": [],
   "source": [
    "def mean_r_calc(Taxon):\n",
    "    r_vals=[]\n",
    "    for line in Jiang_data:\n",
    "        if len(line.split())== 6: \n",
    "            #this was to stop errors of calling the index out of bounds\n",
    "            if line.split(\"\\t\")[1] == Taxon:\n",
    "                #split the line along tabs and compare the result for taxon column to the user input\n",
    "                r_vals.append(float(line.split(\"\\t\")[3]))\n",
    "                #appends the r value to the holder list if the test is passed\n",
    "    mean_r=(sum(r_vals)/len(r_vals))  #calculates the mean by summing all instances of the r variable and dividing it by number of instances\n",
    "    return(mean_r)"
   ]
  },
  {
   "cell_type": "code",
   "execution_count": 14,
   "metadata": {
    "collapsed": false,
    "scrolled": true
   },
   "outputs": [
    {
     "data": {
      "text/plain": [
       "0.39719005173783783"
      ]
     },
     "execution_count": 14,
     "metadata": {},
     "output_type": "execute_result"
    }
   ],
   "source": [
    "mean_r_calc(\"Fish\")"
   ]
  },
  {
   "cell_type": "markdown",
   "metadata": {},
   "source": [
    "### 4.9.1.2"
   ]
  },
  {
   "cell_type": "markdown",
   "metadata": {},
   "source": [
    "want to repeatedly sample 37 values of r at random from the data set\n",
    "construct a mean for this \n",
    "and calculate the probability of observing a higher mean value of r\n",
    "need to use 50000 randomizations\n",
    "\n",
    "for this exercise, want to make sure we aren't sampling the first row with the column headings\n",
    "    do this by using Jiang_data[1:]\n",
    "\n",
    "can generate a random number in the range between(0 and the length of Jiang_data)\n",
    "    this should maybe be -1, as we start counting from 0 in python index\n",
    "\n",
    "use this number as the index to pull out the r value and append it to the list as above\n",
    "\n",
    "\n",
    "can generate random integers with \n",
    "from random import randint\n",
    "randint(lower value, upper value)\n"
   ]
  },
  {
   "cell_type": "code",
   "execution_count": 8,
   "metadata": {
    "collapsed": false
   },
   "outputs": [],
   "source": [
    "pruned_Jiang=Jiang_data[1:]"
   ]
  },
  {
   "cell_type": "code",
   "execution_count": 9,
   "metadata": {
    "collapsed": false
   },
   "outputs": [],
   "source": [
    "def random_r(number):\n",
    "    from random import randint\n",
    "    position_list=[]\n",
    "    r_values=[]\n",
    "    for i in range(number):\n",
    "        position_list.append(randint(0, (len(pruned_Jiang)-1)))  #creates a list of random positions in the data set\n",
    "    for position in position_list:\n",
    "        if len(pruned_Jiang[position].split(\"\\t\"))==6:\n",
    "            r_values.append(float(pruned_Jiang[position].split(\"\\t\")[3]))\n",
    "    mean_r=(sum(r_values)/len(r_values))\n",
    "    return(mean_r)\n",
    "    "
   ]
  },
  {
   "cell_type": "code",
   "execution_count": 10,
   "metadata": {
    "collapsed": false
   },
   "outputs": [
    {
     "data": {
      "text/plain": [
       "0.2933147779249999"
      ]
     },
     "execution_count": 10,
     "metadata": {},
     "output_type": "execute_result"
    }
   ],
   "source": [
    "random_r(37)"
   ]
  },
  {
   "cell_type": "markdown",
   "metadata": {},
   "source": [
    "Ok so that makes a random sampling function,\n",
    "\n",
    "now we need to run it 50000 times"
   ]
  },
  {
   "cell_type": "code",
   "execution_count": 179,
   "metadata": {
    "collapsed": true
   },
   "outputs": [],
   "source": [
    "def p_value(number):\n",
    "    result=[]\n",
    "    for i in range(50000):\n",
    "        result.append(random_r(number))\n",
    "    return result\n",
    "    \n",
    "        "
   ]
  },
  {
   "cell_type": "code",
   "execution_count": null,
   "metadata": {
    "collapsed": true
   },
   "outputs": [],
   "source": [
    "xx=p_value(37)"
   ]
  },
  {
   "cell_type": "code",
   "execution_count": null,
   "metadata": {
    "collapsed": true
   },
   "outputs": [],
   "source": [
    "def calc_pval2(user_list):\n",
    "    sort_list=sorted(user_list)\n",
    "    for n in sort_list:\n",
    "        if n >= mean_r_calc(\"Fish\"):\n",
    "            return(sort_list.index(n))\n",
    "            break\n",
    "            \n",
    "position=calc_pval2(xx)\n",
    "pos=(int(position))/len(xx)\n",
    "print(1-pos)"
   ]
  },
  {
   "cell_type": "markdown",
   "metadata": {},
   "source": [
    "gives a p-value of 0.00416\n",
    "\n",
    "this is significant to a threshold of 0.05, and 0.01"
   ]
  },
  {
   "cell_type": "markdown",
   "metadata": {},
   "source": [
    "#putting it all together\n",
    "pruned_Jiang=Jiang_data[1:]\n",
    "def random_r(user_list):\n",
    "    length_of_list=len(user_list)\n",
    "    from random import randint\n",
    "    position_list=[]\n",
    "    r_values=[]\n",
    "    for i in range(length_of_list):\n",
    "        position_list.append(randint(0, (len(pruned_Jiang)-1)))  #creates a list of random positions in the data set\n",
    "    \n",
    "    for position in position_list:\n",
    "        if len(pruned_Jiang[position].split(\"\\t\"))==6:\n",
    "            r_values.append(float(pruned_Jiang[position].split(\"\\t\")[3])) #creates the list of random r values\n",
    "    \n",
    "    mean_r=(sum(r_values)/len(r_values)) #calculates random mean for the sample\n",
    "    return(mean_r)\n",
    "\n",
    "def p_value(user_list):\n",
    "    # runs through the above code 50000 times\n",
    "    length_of_list=len(user_list)\n",
    "    import numpy\n",
    "    result=[]\n",
    "    for i in range(50000):\n",
    "        result.append(random_r(length_of_list))\n",
    "    sort_list=sorted(result)\n",
    "    for n in sort_list:\n",
    "        if n >= mean_r_calc(Taxon):\n",
    "            position = sort_list.index(n)\n",
    "            break\n",
    "    p_val_calc=(1-(position/50000))\n",
    "    return p_val_calc\n"
   ]
  },
  {
   "cell_type": "code",
   "execution_count": null,
   "metadata": {
    "collapsed": true
   },
   "outputs": [],
   "source": []
  },
  {
   "cell_type": "markdown",
   "metadata": {},
   "source": [
    "Below here are notes for an alternate way of doing it"
   ]
  },
  {
   "cell_type": "markdown",
   "metadata": {},
   "source": [
    "```\n",
    "def calc_pval(user_choice):\n",
    "    Num_above = 0\n",
    "    for i in user_choice:\n",
    "        if i >= mean_r_calc(\"Fish\"):\n",
    "            Num_above = Num_above + 1\n",
    "    p_value_result = (Num_above/50000)\n",
    "    return p_value_result\n",
    "#this will give us the proportion of simulated results that are higher than our value \n",
    "```"
   ]
  },
  {
   "cell_type": "markdown",
   "metadata": {},
   "source": [
    "```\n",
    "cc=calc_pval(xx)\n",
    "print(cc)\n",
    "```"
   ]
  },
  {
   "cell_type": "markdown",
   "metadata": {},
   "source": [
    "### 4.9.1.3"
   ]
  },
  {
   "cell_type": "markdown",
   "metadata": {},
   "source": [
    "use the above method, use a loop to pull out unique instances of taxa in Jiang_data[1:]\n",
    "\n",
    "make a list with this\n",
    "\n",
    "feed this list to the above function\n",
    "store the output as a dictionary,\n",
    "    taxa name: mean r value\n",
    "    \n",
    "Would need to do more simulations for the r-value, as each taxa have different number of draws\n",
    "would use the 4.9.1.2 method, but would substitute the number of instances of that taxa\n",
    "    can do this using the length of the r.vals vector\n",
    "    or maybe do this with a while loop and counter?"
   ]
  },
  {
   "cell_type": "markdown",
   "metadata": {},
   "source": [
    "Create a holder_list\n",
    "for taxon in list of taxons from pruned Jiang:\n",
    "    check if the holder list already holds the taxon:\n",
    "        if not, append it to the holder list\n",
    "return holder list\n",
    "\n",
    "\n",
    "Actually python can do this if you convert the list into a set and then back into a list\n"
   ]
  },
  {
   "cell_type": "code",
   "execution_count": 161,
   "metadata": {
    "collapsed": false
   },
   "outputs": [],
   "source": [
    "def get_taxa_list():\n",
    "    taxa_list=[]\n",
    "    for line in pruned_Jiang:\n",
    "        if len(line.split(\"\\t\"))==6:\n",
    "            taxa_list.append(line.split(\"\\t\")[1])\n",
    "    taxa_set=set(taxa_list)  #converts the list into a set, only has one instance of each taxa \n",
    "    new_taxa_list=list(taxa_set)  #converts it back to list form\n",
    "    return new_taxa_list"
   ]
  },
  {
   "cell_type": "code",
   "execution_count": 174,
   "metadata": {
    "collapsed": false
   },
   "outputs": [
    {
     "name": "stdout",
     "output_type": "stream",
     "text": [
      "['Chelicerate', 'Mammal', 'Crustacean', 'Bird', 'Annelids', 'Fish', 'Gastropod', 'Reptile', 'Amphibian', 'Protist', 'Insect']\n"
     ]
    }
   ],
   "source": [
    "taxa_results=get_taxa_list()\n",
    "print(taxa_results)\n",
    "#got a list of taxons"
   ]
  },
  {
   "cell_type": "code",
   "execution_count": 177,
   "metadata": {
    "collapsed": true
   },
   "outputs": [],
   "source": [
    "def get_all_mean_r(taxa_list):\n",
    "    taxa_r_dict={}\n",
    "    for taxa in taxa_list:\n",
    "        r_for_taxa=mean_r_calc(taxa)\n",
    "        taxa_r_dict[taxa]=r_for_taxa\n",
    "    return taxa_r_dict\n",
    "    "
   ]
  },
  {
   "cell_type": "code",
   "execution_count": 178,
   "metadata": {
    "collapsed": false
   },
   "outputs": [
    {
     "name": "stdout",
     "output_type": "stream",
     "text": [
      "{'Chelicerate': 0.49113529650000004, 'Amphibian': 0.18552824175524468, 'Crustacean': 0.40302827731946345, 'Insect': 0.19664531553867934, 'Mammal': 0.009, 'Bird': 0.13175671104423078, 'Fish': 0.39719005173783783, 'Annelids': 0.2, 'Gastropod': 0.40099999999999997, 'Protist': 0.61402, 'Reptile': 0.11750000000000002}\n"
     ]
    }
   ],
   "source": [
    "print(get_all_mean_r(taxa_results))"
   ]
  },
  {
   "cell_type": "code",
   "execution_count": 184,
   "metadata": {
    "collapsed": true
   },
   "outputs": [],
   "source": [
    "def calc_all_expected_r(taxa_list):\n",
    "    rand_r_dict={}\n",
    "    number_of_species={}\n",
    "    for taxon in taxa_list:\n",
    "        species_in_taxa=0\n",
    "        for line in pruned_Jiang:\n",
    "            if len(line.split(\"\\t\")) == 6:\n",
    "                if line.split(\"\\t\") == taxon:\n",
    "                    species_in_taxa=species_in_taxa + 1\n",
    "        number_of_species[taxon]=species_in_taxa\n",
    "    return number_of_species\n",
    "        "
   ]
  },
  {
   "cell_type": "code",
   "execution_count": 185,
   "metadata": {
    "collapsed": false
   },
   "outputs": [
    {
     "name": "stdout",
     "output_type": "stream",
     "text": [
      "{'Chelicerate': 0, 'Amphibian': 0, 'Crustacean': 0, 'Insect': 0, 'Mammal': 0, 'Bird': 0, 'Fish': 0, 'Annelids': 0, 'Gastropod': 0, 'Protist': 0, 'Reptile': 0}\n"
     ]
    }
   ],
   "source": [
    "print(calc_all_expected_r(taxa_results))"
   ]
  },
  {
   "cell_type": "code",
   "execution_count": null,
   "metadata": {
    "collapsed": true
   },
   "outputs": [],
   "source": []
  }
 ],
 "metadata": {
  "anaconda-cloud": {},
  "kernelspec": {
   "display_name": "Python [default]",
   "language": "python",
   "name": "python3"
  },
  "language_info": {
   "codemirror_mode": {
    "name": "ipython",
    "version": 3
   },
   "file_extension": ".py",
   "mimetype": "text/x-python",
   "name": "python",
   "nbconvert_exporter": "python",
   "pygments_lexer": "ipython3",
   "version": "3.5.2"
  }
 },
 "nbformat": 4,
 "nbformat_minor": 2
}
