{
 "cells": [
  {
   "cell_type": "markdown",
   "metadata": {},
   "source": [
    "# Esox masquinongy\n",
    "## common name: Muskielunge"
   ]
  },
  {
   "cell_type": "markdown",
   "metadata": {
    "collapsed": true
   },
   "source": [
    "\n",
    "```\n",
    "import urllib.request\n",
    "import json\n",
    "\n",
    "muskie_url = \"https://fishbase.ropensci.org/species/?genus=Esox&species=masquinongy\"\n",
    "\n",
    "raw_json = urllib.request.urlopen(muskie_url)\n",
    "decoded_json = raw_json.read().decode('utf-8')\n",
    "parsed_json= json.loads(decoded_json)\n",
    "raw_json.close()\n",
    "\n",
    "```"
   ]
  },
  {
   "cell_type": "markdown",
   "metadata": {},
   "source": [
    "```\n",
    "print(\"Threat to humans: \" + parsed_json[\"data\"][0][\"Dangerous\"])\n",
    "```"
   ]
  },
  {
   "cell_type": "code",
   "execution_count": 13,
   "metadata": {
    "collapsed": false
   },
   "outputs": [
    {
     "name": "stdout",
     "output_type": "stream",
     "text": [
      "Comments: Lives in clear vegetated lakes, quiet pools and backwaters of creeks and small to large rivers (Ref. 205, 10294).  Solitary, lurking hunter on other fishes as well as on ducklings, muskrats, and snakes. Oviparous, spawn in spring as the ice melts (Ref. 205).\n"
     ]
    }
   ],
   "source": [
    "print(\"Comments: \" + parsed_json[\"data\"][0][\"Comments\"])\n"
   ]
  },
  {
   "cell_type": "code",
   "execution_count": 14,
   "metadata": {
    "collapsed": false
   },
   "outputs": [
    {
     "name": "stdout",
     "output_type": "stream",
     "text": [
      "Used for Aquaculture: commercial\n"
     ]
    }
   ],
   "source": [
    "print(\"Used for Aquaculture: \" +parsed_json[\"data\"][0][\"UsedforAquaculture\"])"
   ]
  },
  {
   "cell_type": "markdown",
   "metadata": {},
   "source": [
    "# Oncorhynchus mykiss\n",
    "## Common name: rainbow trout"
   ]
  },
  {
   "cell_type": "code",
   "execution_count": 24,
   "metadata": {
    "collapsed": true
   },
   "outputs": [],
   "source": [
    "import urllib.request\n",
    "import json\n",
    "\n",
    "steelhead_url = \"https://fishbase.ropensci.org/species/?genus=Oncorhynchus&species=mykiss\"\n",
    "\n",
    "raw_json2 = urllib.request.urlopen(steelhead_url)\n",
    "decoded_json2 = raw_json2.read().decode('utf-8')\n",
    "parsed_json2= json.loads(decoded_json2)\n",
    "raw_json.close()"
   ]
  },
  {
   "cell_type": "code",
   "execution_count": 25,
   "metadata": {
    "collapsed": false
   },
   "outputs": [
    {
     "name": "stdout",
     "output_type": "stream",
     "text": [
      "Threat to humans: potential pest\n"
     ]
    }
   ],
   "source": [
    "print(\"Threat to humans: \" + parsed_json2[\"data\"][0][\"Dangerous\"])"
   ]
  },
  {
   "cell_type": "code",
   "execution_count": 26,
   "metadata": {
    "collapsed": false
   },
   "outputs": [
    {
     "name": "stdout",
     "output_type": "stream",
     "text": [
      "Comments: Adults inhabit cold headwaters, creeks, small to large rivers, and lakes.  Anadromous in coastal streams (Ref. 5723).  Stocked in almost all water bodies as lakes, rivers and streams, usually not stocked in water reaching summer temperatures above 25°C or ponds with very low oxygen concentrations.  Feed on a variety of aquatic and terrestrial invertebrates and small fishes. At the sea, they prey on fish and cephalopods.  Mature individuals undertake short spawning migrations.  Anadromous and lake forms may migrate long distances to spawning streams (Ref. 59043). Utilized fresh, smoked, canned, and frozen; eaten steamed, fried, broiled, boiled, microwaved and baked (Ref. 9988).  Cultured in many countries and is often hatched and stocked into rivers and lakes especially to attract recreational fishers (Ref. 9988).\n"
     ]
    }
   ],
   "source": [
    "print(\"Comments: \" + parsed_json2[\"data\"][0][\"Comments\"])\n"
   ]
  },
  {
   "cell_type": "code",
   "execution_count": 27,
   "metadata": {
    "collapsed": false
   },
   "outputs": [
    {
     "name": "stdout",
     "output_type": "stream",
     "text": [
      "Used for Aquaculture: commercial\n"
     ]
    }
   ],
   "source": [
    "print(\"Used for Aquaculture: \" +parsed_json2[\"data\"][0][\"UsedforAquaculture\"])"
   ]
  },
  {
   "cell_type": "code",
   "execution_count": null,
   "metadata": {
    "collapsed": true
   },
   "outputs": [],
   "source": []
  },
  {
   "cell_type": "code",
   "execution_count": null,
   "metadata": {
    "collapsed": true
   },
   "outputs": [],
   "source": []
  }
 ],
 "metadata": {
  "anaconda-cloud": {},
  "kernelspec": {
   "display_name": "Python [default]",
   "language": "python",
   "name": "python3"
  },
  "language_info": {
   "codemirror_mode": {
    "name": "ipython",
    "version": 3
   },
   "file_extension": ".py",
   "mimetype": "text/x-python",
   "name": "python",
   "nbconvert_exporter": "python",
   "pygments_lexer": "ipython3",
   "version": "3.5.2"
  }
 },
 "nbformat": 4,
 "nbformat_minor": 2
}
