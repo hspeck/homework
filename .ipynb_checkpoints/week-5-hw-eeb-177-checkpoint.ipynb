{
 "cells": [
  {
   "cell_type": "markdown",
   "metadata": {},
   "source": [
    "# Part One: Continuing the in class challenge\n",
    "\n",
    "### 1. how many families are in this file?"
   ]
  },
  {
   "cell_type": "markdown",
   "metadata": {
    "collapsed": true
   },
   "source": [
    "did this in class, had to load the data and format it properly\n",
    "use tail to cut off all the header info, set cut to grab the 3rd column, families\n",
    "sort it then pass to uniq and then get the total number of lines\n",
    "```\n",
    "tail -n +4 ~/Desktop/eeb-177/class-assignments/formatted_nature.csv | cut -d \",\" -f 3 | sort |uniq | wc -l\n",
    "```"
   ]
  },
  {
   "cell_type": "markdown",
   "metadata": {},
   "source": [
    "##### 194 families"
   ]
  },
  {
   "cell_type": "markdown",
   "metadata": {},
   "source": [
    "### 2. Which family has the most species represented"
   ]
  },
  {
   "cell_type": "markdown",
   "metadata": {
    "collapsed": true
   },
   "source": [
    "#### can use uniq -c ability to prefix lines with how many times they occured.\n",
    "can then sort the output to get the line with the highest amount\n",
    "\n",
    "want to grab all the appropriate data\n",
    "    use tail\n",
    "want to sort according to the third column and uniq -c to get the count for each family\n",
    "\n",
    "need to sort the formated output numerically by the first column\n",
    "    use sort -n -r for numerical reversed, then grab the first result\n",
    "    use head to grab the first result\n",
    "\n",
    "```   \n",
    "tail -n +4 ~/Desktop/eeb-177/class-assignments/formatted_nature.csv | cut -d \",\" -f 3 |sort| uniq -c |sort -n -r| head -n +1\n",
    "```"
   ]
  },
  {
   "cell_type": "markdown",
   "metadata": {},
   "source": [
    "##### 102 species of Trochilidae"
   ]
  },
  {
   "cell_type": "markdown",
   "metadata": {},
   "source": [
    "### 3. How many families have only a single species in them?"
   ]
  },
  {
   "cell_type": "markdown",
   "metadata": {
    "collapsed": true
   },
   "source": [
    "can use the first section of the code up to uniq -c to generate the list\n",
    "then use grep to grab only things listed once and count them\n",
    "eg grep -cwE \"\\*sw\\s*\"\n",
    "```\n",
    "tail -n +4 ~/Desktop/eeb-177/class-assignments/formatted_nature.csv | cut -d \",\" -f 3 |sort| uniq -c |sort -n -r| grep -wcE \"\\s*1\\s*\"\n",
    "```"
   ]
  },
  {
   "cell_type": "markdown",
   "metadata": {},
   "source": [
    "##### 60 families have 1 species in them"
   ]
  },
  {
   "cell_type": "markdown",
   "metadata": {},
   "source": [
    "### 4. How many families are present in the eBird data?"
   ]
  },
  {
   "cell_type": "markdown",
   "metadata": {
    "collapsed": true
   },
   "source": [
    "Can use the same steps,just making the appropriate adjustmetns for the format of the eBird csv\n",
    "\n",
    "~~~~~\n",
    "tail -n +2 ~/Desktop/eeb-177/class-assignments/formatted_eBird.csv | cut -d \",\" -f 8 | sort | uniq | wc -l\n",
    "~~~~~"
   ]
  },
  {
   "cell_type": "markdown",
   "metadata": {},
   "source": [
    "##### 239 families"
   ]
  },
  {
   "cell_type": "markdown",
   "metadata": {},
   "source": [
    "### 5. How many species are in each family in the eBird Data?"
   ]
  },
  {
   "cell_type": "markdown",
   "metadata": {
    "collapsed": true
   },
   "source": [
    "can use uniq -c to get the number of occurences of these groups in the file\n",
    "will sort the output too to make it numerical\n",
    "\n",
    "````\n",
    "tail -n +2 ~/Desktop/eeb-177/class-assignments/formatted_eBird.csv | cut -d \",\" -f 8 | sort | uniq -c | sort -n\n",
    "````"
   ]
  },
  {
   "cell_type": "markdown",
   "metadata": {},
   "source": [
    "  ##### Output of the above command\n",
    "  \n",
    "      1 Anseranatidae (Magpie Goose)\n",
    "      1 Balaenicipitidae (Shoebill)\n",
    "      1 Donacobiidae (Donacobius)\n",
    "      1 Dromadidae (Crab Plover)\n",
    "      1 Dulidae (Palmchat)\n",
    "      1 Elachuridae (Spotted Elachura)\n",
    "      1 Eulacestomatidae (Ploughbill)\n",
    "      1 Eupetidae (Rail-babbler)\n",
    "      1 Eurypygidae (Sunbittern)\n",
    "      1 Hylocitreidae (Hylocitrea)\n",
    "      1 Hypocoliidae (Hypocolius)\n",
    "      1 Ibidorhynchidae (Ibisbill)\n",
    "      1 Ifritidae (Ifrita)\n",
    "      1 Leptosomidae (Cuckoo-Roller)\n",
    "      1 Notiomystidae (Stitchbird)\n",
    "      1 Opisthocomidae (Hoatzin)\n",
    "      1 Oxyruncidae (Sharpbill)\n",
    "      1 Panuridae (Bearded Reedling)\n",
    "      1 Pedionomidae (Plains-wanderer)\n",
    "      1 Peucedramidae (Olive Warbler)\n",
    "      1 Pityriaseidae (Bristlehead)\n",
    "      1 Pluvianellidae (Magellanic Plover)\n",
    "      1 Pluvianidae (Egyptian Plover)\n",
    "      1 Rhagologidae (Mottled Berryhunter)\n",
    "      1 Rhynochetidae (Kagu)\n",
    "      1 Sagittariidae (Secretary-bird)\n",
    "      1 Sapayoidae (Sapayoa)\n",
    "      1 Scopidae (Hamerkop)\n",
    "      1 Steatornithidae (Oilbird)\n",
    "      1 Tichodromidae (Wallcreeper)\n",
    "      1 Urocynchramidae (Przevalski's Pinktail)\n",
    "      2 Atrichornithidae (Scrub-birds)\n",
    "      2 Bucorvidae (Ground-Hornbills)\n",
    "      2 Cariamidae (Seriemas)\n",
    "      2 Chaetopidae (Rockjumpers)\n",
    "      2 Chionidae (Sheathbills)\n",
    "      2 Corcoracidae (White-winged Chough and Apostlebird)\n",
    "      2 Irenidae (Fairy-bluebirds)\n",
    "      2 Machaerirhynchidae (Boatbills)\n",
    "      2 Melampittidae (Melampittas)\n",
    "      2 Menuridae (Lyrebirds)\n",
    "      2 Paramythiidae (Tit Berrypecker and Crested Berrypecker)\n",
    "      2 Picathartidae (Rockfowl)\n",
    "      2 Semnornithidae (Toucan-Barbets)\n",
    "      3 Anhimidae (Screamers)\n",
    "      3 Aramidae (Limpkin)\n",
    "      3 Buphagidae (Oxpeckers)\n",
    "      3 Cnemophilidae (Satinbirds)\n",
    "      3 Dasyornithidae (Bristlebirds)\n",
    "      3 Heliornithidae (Finfoots)\n",
    "      3 Mesitornithidae (Mesites)\n",
    "      3 Mohouidae (Whiteheads)\n",
    "      3 Oreoicidae (Australo-Papuan Bellbirds)\n",
    "      3 Orthonychidae (Logrunners)\n",
    "      3 Rostratulidae (Painted-Snipes)\n",
    "      3 Struthionidae (Ostriches)\n",
    "      4 Acanthisittidae (New Zealand Wrens)\n",
    "      4 Anhingidae (Anhingas)\n",
    "      4 Bombycillidae (Waxwings)\n",
    "      4 Casuariidae (Cassowaries and Emu)\n",
    "      4 Falcunculidae (Shrike-tit)\n",
    "      4 Hyliotidae (Hyliotas)\n",
    "      4 Melanopareiidae (Crescentchests)\n",
    "      4 Nicatoridae (Nicators)\n",
    "      4 Ptiliogonatidae (Silky-flycatchers)\n",
    "      4 Rheidae (Rheas)\n",
    "      4 Strigopidae (New Zealand Parrots)\n",
    "      4 Thinocoridae (Seedsnipes)\n",
    "      5 \n",
    "      5 Aegithinidae (Ioras)\n",
    "      5 Brachypteraciidae (Ground-Rollers)\n",
    "      5 Callaeidae (Wattlebirds)\n",
    "      5 Hemiprocnidae (Treeswifts)\n",
    "      5 Mohoidae (Hawaiian Honeyeaters)\n",
    "      5 Pandionidae (Osprey)\n",
    "      5 Philepittidae (Asities)\n",
    "      5 Pomatostomidae (Pseudo-Babblers)\n",
    "      5 Promeropidae (Sugarbirds)\n",
    "      5 Psophodidae (Whipbirds and Wedgebills)\n",
    "      5 Upupidae (Hoopoes)\n",
    "      6 Fregatidae (Frigatebirds)\n",
    "      6 Todidae (Todies)\n",
    "      7 Apterygidae (Kiwis)\n",
    "      7 Coliidae (Mousebirds)\n",
    "      7 Pnoepygidae (Cupwings)\n",
    "      8 Gaviidae (Loons)\n",
    "      8 Neosittidae (Sittellas)\n",
    "      8 Phoenicopteridae (Flamingos)\n",
    "      9 Calcariidae (Longspurs and Snow Buntings)\n",
    "      9 Climacteridae (Australasian Treecreepers)\n",
    "     10 Calyptomenidae (African and Green Broadbills)\n",
    "     10 Cinclidae (Dippers)\n",
    "     10 Nyctibiidae (Potoos)\n",
    "     11 Bernieridae (Malagasy Warblers)\n",
    "     11 Burhinidae (Thick-knees)\n",
    "     11 Eurylaimidae (Asian and Grauer's Broadbills)\n",
    "     11 Phaethontidae (Tropicbirds)\n",
    "     11 Psophiidae (Trumpeters)\n",
    "     11 Stenostiridae (Fairy Flycatchers)\n",
    "     12 Cathartidae (New World Vultures)\n",
    "     12 Melanocharitidae (Berrypeckers and Longbills)\n",
    "     12 Pardalotidae (Pardalotes)\n",
    "     13 Chloropseidae (Leafbirds)\n",
    "     13 Conopophagidae (Gnateaters)\n",
    "     13 Jacanidae (Jacanas)\n",
    "     13 Pelecanidae (Pelicans)\n",
    "     13 Phoeniculidae (Woodhoopoes and Scimitar-bills)\n",
    "     13 Regulidae (Kinglets)\n",
    "     14 Aegothelidae (Owlet-nightjars)\n",
    "     14 Artamidae (Woodswallows)\n",
    "     14 Cinclosomatidae (Quail-thrushes and Jewel-babblers)\n",
    "     14 Prunellidae (Accentors)\n",
    "     15 Numididae (Guineafowl)\n",
    "     15 Sarothruridae (Flufftails)\n",
    "     16 Haematopodidae (Oystercatchers)\n",
    "     16 Remizidae (Penduline-Tits)\n",
    "     16 Stercorariidae (Skuas and Jaegers)\n",
    "     17 Formicariidae (Antthrushes)\n",
    "     18 Capitonidae (New World Barbets)\n",
    "     18 Coraciidae (Rollers)\n",
    "     19 Certhiidae (Treecreepers)\n",
    "     19 Recurvirostridae (Stilts and Avocets)\n",
    "     19 Turnicidae (Buttonquail)\n",
    "     20 Indicatoridae (Honeyguides)\n",
    "     21 Momotidae (Motmots)\n",
    "     21 Spheniscidae (Penguins)\n",
    "     21 Sulidae (Boobies and Gannets)\n",
    "     23 Aegithalidae (Long-tailed Tits)\n",
    "     23 Galbulidae (Jacamars)\n",
    "     23 Glareolidae (Pratincoles and Coursers)\n",
    "     23 Gruidae (Cranes)\n",
    "     23 Megapodiidae (Megapodes)\n",
    "     23 Podargidae (Frogmouths)\n",
    "     23 Viduidae (Indigobirds)\n",
    "     24 Pteroclidae (Sandgrouse)\n",
    "     25 Ciconiidae (Storks)\n",
    "     25 Macrosphenidae (African Warblers)\n",
    "     26 Cacatuidae (Cockatoos)\n",
    "     26 Cracticidae (Bellmagpies and Allies)\n",
    "     28 Ptilonorhynchidae (Bowerbirds)\n",
    "     30 Polioptilidae (Gnatcatchers)\n",
    "     31 Podicipedidae (Grebes)\n",
    "     33 Diomedeidae (Albatrosses)\n",
    "     33 Meropidae (Bee-eaters)\n",
    "     34 Otididae (Bustards)\n",
    "     35 Tytonidae (Barn-Owls)\n",
    "     37 Sittidae (Nuthatches)\n",
    "     40 \"Alcidae (Auks\n",
    "     40 Dicruridae (Drongos)\n",
    "     40 Maluridae (Fairywrens)\n",
    "     41 Musophagidae (Turacos)\n",
    "     42 Cettiidae (Bush-Warblers and Allies)\n",
    "     42 Megalaimidae (Asian Barbets)\n",
    "     44 Threskiornithidae (Ibises and Spoonbills)\n",
    "     44 Tityridae (Tityras and Allies)\n",
    "     45 Paradisaeidae (Birds-of-Paradise)\n",
    "     45 Platysteiridae (Wattle-eyes and Batises)\n",
    "     46 Mimidae (Mockingbirds and Thrashers)\n",
    "     46 Oriolidae (Old World Orioles)\n",
    "     46 \"Paradoxornithidae (Parrotbills\n",
    "     47 Sylviidae (Sylviid Warblers)\n",
    "     48 Bucconidae (Puffbirds)\n",
    "     50 Hydrobatidae (Storm-Petrels)\n",
    "     50 Odontophoridae (New World Quail)\n",
    "     54 \"Vangidae (Vangas\n",
    "     55 Passeridae (Old World Sparrows)\n",
    "     56 Phalacrocoracidae (Cormorants and Shags)\n",
    "     57 Dicaeidae (Flowerpeckers)\n",
    "     57 Tinamidae (Tinamous)\n",
    "     58 Petroicidae (Australasian Robins)\n",
    "     59 Laniidae (Shrikes)\n",
    "     59 Pittidae (Pittas)\n",
    "     61 Trogonidae (Trogons)\n",
    "     64 Lybiidae (African Barbets)\n",
    "     64 Ramphastidae (Toucans)\n",
    "     67 Pipridae (Manakins)\n",
    "     67 \"Timaliidae (Tree-Babblers\n",
    "     70 Pellorneidae (Ground Babblers and Allies)\n",
    "     71 Pachycephalidae (Whistlers and Allies)\n",
    "     72 \"Cracidae (Guans\n",
    "     72 Malaconotidae (Bushshrikes and Allies)\n",
    "     74 Bucerotidae (Hornbills)\n",
    "     74 Grallariidae (Antpittas)\n",
    "     75 Rhinocryptidae (Tapaculos)\n",
    "     76 Acanthizidae (Thornbills and Allies)\n",
    "     76 Cotingidae (Cotingas)\n",
    "     76 Locustellidae (Grassbirds and Allies)\n",
    "     80 Acrocephalidae (Reed-Warblers and Allies)\n",
    "     86 Rhipiduridae (Fantails)\n",
    "     90 Charadriidae (Plovers and Lapwings)\n",
    "     93 Cardinalidae (Cardinals and Allies)\n",
    "     98 \"Paridae (Tits\n",
    "    108 \"Vireonidae (Vireos\n",
    "    109 Falconidae (Falcons and Caracaras)\n",
    "    111 Campephagidae (Cuckooshrikes)\n",
    "    119 Phylloscopidae (Leaf Warblers)\n",
    "    124 Caprimulgidae (Nightjars and Allies)\n",
    "    126 \"Ardeidae (Herons\n",
    "    130 Motacillidae (Wagtails and Pipits)\n",
    "    136 Monarchidae (Monarch Flycatchers)\n",
    "    144 Procellariidae (Shearwaters and Petrels)\n",
    "    146 Hirundinidae (Swallows)\n",
    "    147 Sturnidae (Starlings)\n",
    "    147 \"Zosteropidae (White-eyes\n",
    "    148 Alaudidae (Larks)\n",
    "    152 Apodidae (Swifts)\n",
    "    154 Ploceidae (Weavers and Allies)\n",
    "    158 Scolopacidae (Sandpipers and Allies)\n",
    "    161 Alcedinidae (Kingfishers)\n",
    "    165 Troglodytidae (Wrens)\n",
    "    166 Icteridae (Troupials and Allies)\n",
    "    171 Leiothrichidae (Laughingthrushes and Allies)\n",
    "    176 Estrildidae (Waxbills and Allies)\n",
    "    190 \"Corvidae (Crows\n",
    "    190 Nectariniidae (Sunbirds and Spiderhunters)\n",
    "    200 Pycnonotidae (Bulbuls)\n",
    "    203 \"Rallidae (Rails\n",
    "    206 Cuculidae (Cuckoos)\n",
    "    208 Meliphagidae (Honeyeaters)\n",
    "    209 \"Laridae (Gulls\n",
    "    222 Cisticolidae (Cisticolas and Allies)\n",
    "    226 Psittaculidae (Old World Parrots)\n",
    "    228 Parulidae (New World Warblers)\n",
    "    240 \"Phasianidae (Pheasants\n",
    "    251 Psittacidae (New World and African Parrots)\n",
    "    295 Turdidae (Thrushes and Allies)\n",
    "    298 Thamnophilidae (Typical Antbirds)\n",
    "    318 Emberizidae (Buntings and New World Sparrows)\n",
    "    318 Strigidae (Owls)\n",
    "    325 \"Fringillidae (Finches\n",
    "    364 \"Anatidae (Ducks\n",
    "    370 Picidae (Woodpeckers)\n",
    "    386 \"Accipitridae (Hawks\n",
    "    425 Columbidae (Pigeons and Doves)\n",
    "    452 Furnariidae (Ovenbirds and Woodcreepers)\n",
    "    457 Muscicapidae (Old World Flycatchers)\n",
    "    472 Trochilidae (Hummingbirds)\n",
    "    505 Thraupidae (Tanagers and Allies)\n",
    "    617 Tyrannidae (Tyrant Flycatchers)"
   ]
  },
  {
   "cell_type": "markdown",
   "metadata": {},
   "source": [
    "# Part II Bird Data in Python"
   ]
  },
  {
   "cell_type": "code",
   "execution_count": 28,
   "metadata": {
    "collapsed": false,
    "scrolled": false
   },
   "outputs": [],
   "source": [
    "#Need to open, read the data into python\n",
    "#pruned data has had the appropriate lines at the top of the file removed\n",
    "nature_data_name= \"/home/eeb177-student/Desktop/eeb-177/class-assignments/pruned_nature.csv\"\n",
    "nature_data=open(nature_data_name, encoding=\"iso-8859-1\")\n",
    "nature_contents=nature_data.read()\n",
    "\n",
    "eBird_data_name=\"/home/eeb177-student/Desktop/eeb-177/class-assignments/pruned_eBird.csv\"\n",
    "eBird_data=open(eBird_data_name, encoding= \"iso-8859-1\")\n",
    "eBird_contents=eBird_data.read()"
   ]
  },
  {
   "cell_type": "markdown",
   "metadata": {},
   "source": [
    "## #1. \n",
    "Create dictionary where keys are species in the nature data set and and values are families\n",
    "    write a loop to give the output\n",
    "``````\n",
    "Species XX belongs to Family YY \n",
    "``````\n",
    "for all key value pairs"
   ]
  },
  {
   "cell_type": "markdown",
   "metadata": {},
   "source": [
    "###### testing area\n"
   ]
  },
  {
   "cell_type": "code",
   "execution_count": null,
   "metadata": {
    "collapsed": true
   },
   "outputs": [],
   "source": [
    "\n",
    "#can try to use .split to cut apart the string for each delimiters in the file \n",
    "#that didn't work so hot, made it one entire string that was then cut up\n",
    "\n",
    "\n",
    "\n",
    "#let's make a testing file, consisting of a small number of lines\n",
    "testingnature_data_name= \"/home/eeb177-student/Desktop/eeb-177/class-assignments/testing_nature.csv\"\n",
    "testingnature_data=open(testingnature_data_name, encoding=\"iso-8859-1\")\n",
    "testingnature_contents=testingnature_data.read()\n",
    "\n",
    "testingeBird_data_name=\"/home/eeb177-student/Desktop/eeb-177/class-assignments/testing_eBird.csv\"\n",
    "testingeBird_data=open(testingeBird_data_name, encoding= \"iso-8859-1\")\n",
    "testingeBird_contents=testingeBird_data.read()\n",
    "\n",
    "# print(testingnature_contents.split(\"\\n\")[-2])\n",
    "#this lets me get each line as a separate item, only problem is the last line is blank\n",
    "#will need to account for the blank line in calcultations\n",
    "testingnaturerows=testingnature_contents.split(\"\\n\")[ :-1]\n",
    "#this gets the rows but not the last one\n",
    "\n",
    "#families are in 3rd item, i.e.  position 2 for each string\n",
    "\n",
    "for row in testingnaturerows:\n",
    "    print(row.split(\",\")[2])\n",
    "#ok can get all the familes \n",
    "\n",
    "#now want to get the species, its the first column, so position 0\n",
    "\n",
    "for row in testingnaturerows:\n",
    "    print(row.split(\",\")[0])\n",
    "    \n",
    "#need to make species as key, and family as valuee\n",
    "Test_dict={}\n",
    "for row in testingnaturerows:\n",
    "    testkey=row.split(\",\")[0]\n",
    "    testvalue=row.split(\",\")[2]\n",
    "    Test_dict[testkey]=testvalue\n",
    "print(Test_dict)"
   ]
  },
  {
   "cell_type": "code",
   "execution_count": null,
   "metadata": {
    "collapsed": true
   },
   "outputs": [],
   "source": [
    "#ok now need to apply approach it to whole data set\n",
    "\n",
    "naturedatarows=nature_contents.split(\"\\n\")[:-1]\n",
    "Nature_dict={}\n",
    "for row in naturedatarows:\n",
    "    holderkey=row.split(\",\")[0]\n",
    "    holdervalue=row.split(\",\")[2]\n",
    "    Nature_dict[holderkey]=holdervalue\n",
    "#that's the dictionary made\n",
    "#use .items to loop over\n",
    "for key, value in Nature_dict.items():\n",
    "    print(\"Species \"+ key+ \" belongs to Family \"+ value)\n",
    "#it works!"
   ]
  },
  {
   "cell_type": "markdown",
   "metadata": {},
   "source": [
    "## #2. \n",
    "Apply to ebird data"
   ]
  },
  {
   "cell_type": "markdown",
   "metadata": {
    "collapsed": true
   },
   "source": [
    "###### testing area\n",
    "````\n",
    "testingeBirdrows=testingeBird_contents.split(\"\\n\")[:-1]\n",
    "#species is in the 4th position aka position 3\n",
    "#family it in 8th position, aka postion 7\n",
    "\n",
    "for row in testingeBirdrows:\n",
    "    print(row.split(\",\")[3])\n",
    "    print(row.split(\",\")[7])\n",
    "````"
   ]
  },
  {
   "cell_type": "code",
   "execution_count": 51,
   "metadata": {
    "collapsed": false
   },
   "outputs": [],
   "source": [
    "eBirdrows=eBird_contents.split(\"\\n\")[:-1]\n",
    "\n",
    "eBird_dict={}\n",
    "for row in eBirdrows:\n",
    "    holderkey=row.split(\",\")[3]\n",
    "    holderval=row.split(\",\")[7]\n",
    "    eBird_dict[holderkey]=holderval\n"
   ]
  },
  {
   "cell_type": "code",
   "execution_count": null,
   "metadata": {
    "collapsed": true
   },
   "outputs": [],
   "source": [
    "for key, value in eBird_dict.items():\n",
    "    print(\"Species \" + key + \" belongs to Family \"+ value)\n",
    "    #works fine!"
   ]
  },
  {
   "cell_type": "markdown",
   "metadata": {},
   "source": [
    "## #3\n",
    "write another loop that reports the number of species in each family for the eBird data\n",
    "\n",
    "format should be \n",
    "\n",
    "XX total species in Family YY\n",
    "\n",
    "hint is to use the Counter object\n",
    "\n",
    "import Counter\n",
    "\n",
    "my list=[blah]\n",
    "\n",
    "counted=Counter(mylist)\n",
    "\n",
    "print(counted)\n"
   ]
  },
  {
   "cell_type": "code",
   "execution_count": 59,
   "metadata": {
    "collapsed": false
   },
   "outputs": [
    {
     "name": "stdout",
     "output_type": "stream",
     "text": [
      "Counter({'Cracidae': 1, 'Sylviidae': 1, 'Trochilidae': 1, 'Emberizidae': 1, 'Meliphagidae': 1})\n"
     ]
    }
   ],
   "source": [
    "from collections import Counter\n",
    "countedtesting=Counter(Test_dict.values())\n",
    "print(countedtesting)"
   ]
  },
  {
   "cell_type": "markdown",
   "metadata": {},
   "source": [
    "ok seems to work fine, now the question is to how to pull out the relevant info"
   ]
  },
  {
   "cell_type": "code",
   "execution_count": 65,
   "metadata": {
    "collapsed": false
   },
   "outputs": [
    {
     "name": "stdout",
     "output_type": "stream",
     "text": [
      "dict_values(['Cracidae', 'Emberizidae', 'Trochilidae', 'Meliphagidae', 'Sylviidae'])\n",
      "1 total species in Family Cracidae\n",
      "1 total species in Family Sylviidae\n",
      "1 total species in Family Trochilidae\n",
      "1 total species in Family Emberizidae\n",
      "1 total species in Family Meliphagidae\n"
     ]
    }
   ],
   "source": [
    "print(Test_dict.values())\n",
    "\n",
    "#can use for key, value in counted dictionary generated\n",
    "for key, value in countedtesting.items():\n",
    "    print(str(value)+\" total species in Family \"+ str(key))"
   ]
  },
  {
   "cell_type": "code",
   "execution_count": 66,
   "metadata": {
    "collapsed": false
   },
   "outputs": [
    {
     "name": "stdout",
     "output_type": "stream",
     "text": [
      "4 total species in Family \n",
      "108 total species in Family \"Vireonidae (Vireos\n",
      "21 total species in Family Spheniscidae (Penguins)\n",
      "386 total species in Family \"Accipitridae (Hawks\n",
      "50 total species in Family Hydrobatidae (Storm-Petrels)\n",
      "226 total species in Family Psittaculidae (Old World Parrots)\n",
      "2 total species in Family Bucorvidae (Ground-Hornbills)\n",
      "23 total species in Family Viduidae (Indigobirds)\n",
      "13 total species in Family Chloropseidae (Leafbirds)\n",
      "16 total species in Family Haematopodidae (Oystercatchers)\n",
      "33 total species in Family Meropidae (Bee-eaters)\n",
      "190 total species in Family Nectariniidae (Sunbirds and Spiderhunters)\n",
      "46 total species in Family Mimidae (Mockingbirds and Thrashers)\n",
      "55 total species in Family Passeridae (Old World Sparrows)\n",
      "119 total species in Family Phylloscopidae (Leaf Warblers)\n",
      "74 total species in Family Bucerotidae (Hornbills)\n",
      "2 total species in Family Menuridae (Lyrebirds)\n",
      "76 total species in Family Locustellidae (Grassbirds and Allies)\n",
      "67 total species in Family Pipridae (Manakins)\n",
      "42 total species in Family Cettiidae (Bush-Warblers and Allies)\n",
      "46 total species in Family \"Paradoxornithidae (Parrotbills\n",
      "136 total species in Family Monarchidae (Monarch Flycatchers)\n",
      "10 total species in Family Cinclidae (Dippers)\n",
      "19 total species in Family Recurvirostridae (Stilts and Avocets)\n",
      "158 total species in Family Scolopacidae (Sandpipers and Allies)\n",
      "1 total species in Family Elachuridae (Spotted Elachura)\n",
      "2 total species in Family Chionidae (Sheathbills)\n",
      "75 total species in Family Rhinocryptidae (Tapaculos)\n",
      "147 total species in Family \"Zosteropidae (White-eyes\n",
      "5 total species in Family Promeropidae (Sugarbirds)\n",
      "20 total species in Family Indicatoridae (Honeyguides)\n",
      "209 total species in Family \"Laridae (Gulls\n",
      "10 total species in Family Nyctibiidae (Potoos)\n",
      "5 total species in Family Hemiprocnidae (Treeswifts)\n",
      "3 total species in Family Mohouidae (Whiteheads)\n",
      "1 total species in Family Sagittariidae (Secretary-bird)\n",
      "617 total species in Family Tyrannidae (Tyrant Flycatchers)\n",
      "1 total species in Family Oxyruncidae (Sharpbill)\n",
      "4 total species in Family Casuariidae (Cassowaries and Emu)\n",
      "298 total species in Family Thamnophilidae (Typical Antbirds)\n",
      "425 total species in Family Columbidae (Pigeons and Doves)\n",
      "4 total species in Family Melanopareiidae (Crescentchests)\n",
      "1 total species in Family Pityriaseidae (Bristlehead)\n",
      "18 total species in Family Capitonidae (New World Barbets)\n",
      "2 total species in Family Corcoracidae (White-winged Chough and Apostlebird)\n",
      "166 total species in Family Icteridae (Troupials and Allies)\n",
      "4 total species in Family Nicatoridae (Nicators)\n",
      "3 total species in Family Anhimidae (Screamers)\n",
      "44 total species in Family Tityridae (Tityras and Allies)\n",
      "3 total species in Family Mesitornithidae (Mesites)\n",
      "56 total species in Family Phalacrocoracidae (Cormorants and Shags)\n",
      "13 total species in Family Pelecanidae (Pelicans)\n",
      "58 total species in Family Petroicidae (Australasian Robins)\n",
      "208 total species in Family Meliphagidae (Honeyeaters)\n",
      "17 total species in Family Formicariidae (Antthrushes)\n",
      "44 total species in Family Threskiornithidae (Ibises and Spoonbills)\n",
      "5 total species in Family Philepittidae (Asities)\n",
      "2 total species in Family Melampittidae (Melampittas)\n",
      "15 total species in Family Sarothruridae (Flufftails)\n",
      "11 total species in Family Eurylaimidae (Asian and Grauer's Broadbills)\n",
      "2 total species in Family Semnornithidae (Toucan-Barbets)\n",
      "1 total species in Family Rhynochetidae (Kagu)\n",
      "46 total species in Family Oriolidae (Old World Orioles)\n",
      "1 total species in Family Eulacestomatidae (Ploughbill)\n",
      "472 total species in Family Trochilidae (Hummingbirds)\n",
      "4 total species in Family Anhingidae (Anhingas)\n",
      "4 total species in Family Rheidae (Rheas)\n",
      "18 total species in Family Coraciidae (Rollers)\n",
      "1 total species in Family Ifritidae (Ifrita)\n",
      "64 total species in Family Ramphastidae (Toucans)\n",
      "5 total species in Family Callaeidae (Wattlebirds)\n",
      "71 total species in Family Pachycephalidae (Whistlers and Allies)\n",
      "33 total species in Family Diomedeidae (Albatrosses)\n",
      "228 total species in Family Parulidae (New World Warblers)\n",
      "14 total species in Family Cinclosomatidae (Quail-thrushes and Jewel-babblers)\n",
      "4 total species in Family Acanthisittidae (New Zealand Wrens)\n",
      "34 total species in Family Otididae (Bustards)\n",
      "13 total species in Family Regulidae (Kinglets)\n",
      "13 total species in Family Jacanidae (Jacanas)\n",
      "11 total species in Family Psophiidae (Trumpeters)\n",
      "251 total species in Family Psittacidae (New World and African Parrots)\n",
      "23 total species in Family Megapodiidae (Megapodes)\n",
      "2 total species in Family Picathartidae (Rockfowl)\n",
      "54 total species in Family \"Vangidae (Vangas\n",
      "152 total species in Family Apodidae (Swifts)\n",
      "505 total species in Family Thraupidae (Tanagers and Allies)\n",
      "171 total species in Family Leiothrichidae (Laughingthrushes and Allies)\n",
      "23 total species in Family Glareolidae (Pratincoles and Coursers)\n",
      "1 total species in Family Hypocoliidae (Hypocolius)\n",
      "26 total species in Family Cacatuidae (Cockatoos)\n",
      "239 total species in Family \"Phasianidae (Pheasants\n",
      "14 total species in Family Artamidae (Woodswallows)\n",
      "1 total species in Family Dromadidae (Crab Plover)\n",
      "35 total species in Family Tytonidae (Barn-Owls)\n",
      "42 total species in Family Megalaimidae (Asian Barbets)\n",
      "40 total species in Family \"Alcidae (Auks\n",
      "10 total species in Family Calyptomenidae (African and Green Broadbills)\n",
      "25 total species in Family Macrosphenidae (African Warblers)\n",
      "203 total species in Family \"Rallidae (Rails\n",
      "7 total species in Family Pnoepygidae (Cupwings)\n",
      "11 total species in Family Stenostiridae (Fairy Flycatchers)\n",
      "1 total species in Family Panuridae (Bearded Reedling)\n",
      "37 total species in Family Sittidae (Nuthatches)\n",
      "25 total species in Family Ciconiidae (Storks)\n",
      "19 total species in Family Certhiidae (Treecreepers)\n",
      "11 total species in Family Bernieridae (Malagasy Warblers)\n",
      "148 total species in Family Alaudidae (Larks)\n",
      "23 total species in Family Aegithalidae (Long-tailed Tits)\n",
      "6 total species in Family Todidae (Todies)\n",
      "5 total species in Family Psophodidae (Whipbirds and Wedgebills)\n",
      "21 total species in Family Sulidae (Boobies and Gannets)\n",
      "93 total species in Family Cardinalidae (Cardinals and Allies)\n",
      "4 total species in Family Falcunculidae (Shrike-tit)\n",
      "1 total species in Family Donacobiidae (Donacobius)\n",
      "1 total species in Family Rhagologidae (Mottled Berryhunter)\n",
      "30 total species in Family Polioptilidae (Gnatcatchers)\n",
      "2 total species in Family Cariamidae (Seriemas)\n",
      "1 total species in Family Peucedramidae (Olive Warbler)\n",
      "1 total species in Family Balaenicipitidae (Shoebill)\n",
      "165 total species in Family Troglodytidae (Wrens)\n",
      "5 total species in Family Aegithinidae (Ioras)\n",
      "64 total species in Family Lybiidae (African Barbets)\n",
      "4 total species in Family Ptiliogonatidae (Silky-flycatchers)\n",
      "126 total species in Family \"Ardeidae (Herons\n",
      "45 total species in Family Paradisaeidae (Birds-of-Paradise)\n",
      "23 total species in Family Podargidae (Frogmouths)\n",
      "24 total species in Family Pteroclidae (Sandgrouse)\n",
      "1 total species in Family Eurypygidae (Sunbittern)\n",
      "30 total species in Family Podicipedidae (Grebes)\n",
      "457 total species in Family Muscicapidae (Old World Flycatchers)\n",
      "2 total species in Family Irenidae (Fairy-bluebirds)\n",
      "15 total species in Family Numididae (Guineafowl)\n",
      "8 total species in Family Neosittidae (Sittellas)\n",
      "76 total species in Family Cotingidae (Cotingas)\n",
      "14 total species in Family Aegothelidae (Owlet-nightjars)\n",
      "23 total species in Family Gruidae (Cranes)\n",
      "3 total species in Family Buphagidae (Oxpeckers)\n",
      "200 total species in Family Pycnonotidae (Bulbuls)\n",
      "50 total species in Family Odontophoridae (New World Quail)\n",
      "176 total species in Family Estrildidae (Waxbills and Allies)\n",
      "364 total species in Family \"Anatidae (Ducks\n",
      "45 total species in Family Platysteiridae (Wattle-eyes and Batises)\n",
      "8 total species in Family Phoenicopteridae (Flamingos)\n",
      "161 total species in Family Alcedinidae (Kingfishers)\n",
      "98 total species in Family \"Paridae (Tits\n",
      "70 total species in Family Pellorneidae (Ground Babblers and Allies)\n",
      "8 total species in Family Gaviidae (Loons)\n",
      "4 total species in Family Strigopidae (New Zealand Parrots)\n",
      "144 total species in Family Procellariidae (Shearwaters and Petrels)\n",
      "11 total species in Family Burhinidae (Thick-knees)\n",
      "3 total species in Family Oreoicidae (Australo-Papuan Bellbirds)\n",
      "12 total species in Family Melanocharitidae (Berrypeckers and Longbills)\n",
      "111 total species in Family Campephagidae (Cuckooshrikes)\n",
      "86 total species in Family Rhipiduridae (Fantails)\n",
      "370 total species in Family Picidae (Woodpeckers)\n",
      "146 total species in Family Hirundinidae (Swallows)\n",
      "80 total species in Family Acrocephalidae (Reed-Warblers and Allies)\n",
      "2 total species in Family Atrichornithidae (Scrub-birds)\n",
      "1 total species in Family Eupetidae (Rail-babbler)\n",
      "154 total species in Family Ploceidae (Weavers and Allies)\n",
      "16 total species in Family Stercorariidae (Skuas and Jaegers)\n",
      "3 total species in Family Aramidae (Limpkin)\n",
      "71 total species in Family \"Cracidae (Guans\n",
      "3 total species in Family Rostratulidae (Painted-Snipes)\n",
      "4 total species in Family Bombycillidae (Waxwings)\n",
      "76 total species in Family Acanthizidae (Thornbills and Allies)\n",
      "206 total species in Family Cuculidae (Cuckoos)\n",
      "5 total species in Family Pandionidae (Osprey)\n",
      "147 total species in Family Sturnidae (Starlings)\n",
      "1 total species in Family Pluvianellidae (Magellanic Plover)\n",
      "57 total species in Family Dicaeidae (Flowerpeckers)\n",
      "295 total species in Family Turdidae (Thrushes and Allies)\n",
      "19 total species in Family Turnicidae (Buttonquail)\n",
      "325 total species in Family \"Fringillidae (Finches\n",
      "2 total species in Family Chaetopidae (Rockjumpers)\n",
      "13 total species in Family Conopophagidae (Gnateaters)\n",
      "9 total species in Family Climacteridae (Australasian Treecreepers)\n",
      "6 total species in Family Fregatidae (Frigatebirds)\n",
      "11 total species in Family Phaethontidae (Tropicbirds)\n",
      "1 total species in Family Notiomystidae (Stitchbird)\n",
      "130 total species in Family Motacillidae (Wagtails and Pipits)\n",
      "452 total species in Family Furnariidae (Ovenbirds and Woodcreepers)\n",
      "318 total species in Family Emberizidae (Buntings and New World Sparrows)\n",
      "3 total species in Family Cnemophilidae (Satinbirds)\n",
      "1 total species in Family Leptosomidae (Cuckoo-Roller)\n",
      "2 total species in Family Machaerirhynchidae (Boatbills)\n",
      "26 total species in Family Cracticidae (Bellmagpies and Allies)\n",
      "190 total species in Family \"Corvidae (Crows\n",
      "3 total species in Family Heliornithidae (Finfoots)\n",
      "5 total species in Family Brachypteraciidae (Ground-Rollers)\n",
      "12 total species in Family Pardalotidae (Pardalotes)\n",
      "23 total species in Family Galbulidae (Jacamars)\n",
      "1 total species in Family Ibidorhynchidae (Ibisbill)\n",
      "222 total species in Family Cisticolidae (Cisticolas and Allies)\n",
      "1 total species in Family Scopidae (Hamerkop)\n",
      "59 total species in Family Laniidae (Shrikes)\n",
      "4 total species in Family Hyliotidae (Hyliotas)\n",
      "90 total species in Family Charadriidae (Plovers and Lapwings)\n",
      "3 total species in Family Struthionidae (Ostriches)\n",
      "1 total species in Family Pluvianidae (Egyptian Plover)\n",
      "28 total species in Family Ptilonorhynchidae (Bowerbirds)\n",
      "124 total species in Family Caprimulgidae (Nightjars and Allies)\n",
      "5 total species in Family Pomatostomidae (Pseudo-Babblers)\n",
      "40 total species in Family Maluridae (Fairywrens)\n",
      "1 total species in Family Pedionomidae (Plains-wanderer)\n",
      "74 total species in Family Grallariidae (Antpittas)\n",
      "21 total species in Family Momotidae (Motmots)\n",
      "61 total species in Family Trogonidae (Trogons)\n",
      "41 total species in Family Musophagidae (Turacos)\n",
      "1 total species in Family Steatornithidae (Oilbird)\n",
      "16 total species in Family Remizidae (Penduline-Tits)\n",
      "40 total species in Family Dicruridae (Drongos)\n",
      "4 total species in Family Thinocoridae (Seedsnipes)\n",
      "5 total species in Family Mohoidae (Hawaiian Honeyeaters)\n",
      "1 total species in Family Tichodromidae (Wallcreeper)\n",
      "318 total species in Family Strigidae (Owls)\n",
      "12 total species in Family Cathartidae (New World Vultures)\n",
      "1 total species in Family Sapayoidae (Sapayoa)\n",
      "7 total species in Family Apterygidae (Kiwis)\n",
      "1 total species in Family Dulidae (Palmchat)\n",
      "1 total species in Family Opisthocomidae (Hoatzin)\n",
      "1 total species in Family Anseranatidae (Magpie Goose)\n",
      "47 total species in Family Sylviidae (Sylviid Warblers)\n",
      "109 total species in Family Falconidae (Falcons and Caracaras)\n",
      "48 total species in Family Bucconidae (Puffbirds)\n",
      "2 total species in Family Paramythiidae (Tit Berrypecker and Crested Berrypecker)\n",
      "3 total species in Family Orthonychidae (Logrunners)\n",
      "7 total species in Family Coliidae (Mousebirds)\n",
      "13 total species in Family Phoeniculidae (Woodhoopoes and Scimitar-bills)\n",
      "3 total species in Family Dasyornithidae (Bristlebirds)\n",
      "72 total species in Family Malaconotidae (Bushshrikes and Allies)\n",
      "59 total species in Family Pittidae (Pittas)\n",
      "67 total species in Family \"Timaliidae (Tree-Babblers\n",
      "1 total species in Family Urocynchramidae (Przevalski's Pinktail)\n",
      "57 total species in Family Tinamidae (Tinamous)\n",
      "5 total species in Family Upupidae (Hoopoes)\n",
      "14 total species in Family Prunellidae (Accentors)\n",
      "1 total species in Family Hylocitreidae (Hylocitrea)\n",
      "9 total species in Family Calcariidae (Longspurs and Snow Buntings)\n"
     ]
    }
   ],
   "source": [
    "#alright let's set up the actual data\n",
    "from collections import Counter\n",
    "countedEbird=Counter(eBird_dict.values())\n",
    "for key, value in countedEbird.items():\n",
    "    print(str(value)+ \" total species in Family \"+ str(key))"
   ]
  },
  {
   "cell_type": "markdown",
   "metadata": {},
   "source": [
    "# Part III Python for Biologists"
   ]
  },
  {
   "cell_type": "markdown",
   "metadata": {},
   "source": [
    "### Percentage of amino acids part 1\n",
    "write a function which takes a protein and returns the percentage composed by the amino acid.  Must pass the following assert statements\n"
   ]
  },
  {
   "cell_type": "markdown",
   "metadata": {
    "collapsed": true
   },
   "source": [
    "assert my_function(\"MSRSLLLRFLLFLLLLPPLP\", \"M\") == 5\n",
    "assert my_function(\"MSRSLLLRFLLFLLLLPPLP\", \"r\") == 10\n",
    "assert my_function(\"msrslllrfllfllllpplp\", \"L\") == 50\n",
    "assert my_function(\"MSRSLLLRFLLFLLLLPPLP\", \"Y\") == 0\n",
    "\n",
    "remember want the percentage, so multiply it by 100 to get it\n",
    "remember to standardize the inputs"
   ]
  },
  {
   "cell_type": "code",
   "execution_count": 95,
   "metadata": {
    "collapsed": true
   },
   "outputs": [],
   "source": [
    "def my_function(protein, amino_acid):\n",
    "    length=len(protein)\n",
    "    occurence=protein.upper().count(amino_acid.upper())\n",
    "    percentage= int(occurence/length *100)\n",
    "    return percentage"
   ]
  },
  {
   "cell_type": "code",
   "execution_count": 96,
   "metadata": {
    "collapsed": false
   },
   "outputs": [],
   "source": [
    "assert my_function(\"MSRSLLLRFLLFLLLLPPLP\", \"M\") == 5\n",
    "assert my_function(\"MSRSLLLRFLLFLLLLPPLP\", \"r\") == 10\n",
    "assert my_function(\"msrslllrfllfllllpplp\", \"L\") == 50\n",
    "assert my_function(\"MSRSLLLRFLLFLLLLPPLP\", \"Y\") == 0"
   ]
  },
  {
   "cell_type": "markdown",
   "metadata": {},
   "source": [
    "### Percentage of amino acid residues part 2\n",
    "modify the function so it accepts a list of amino acids not just one\n",
    "should pass the following assertions\n",
    "\n",
    "want it to return the percentage of hydrophobic amino acids (A, I, L, M, F, W, Y, V) if no arguement is given\n",
    "\n",
    "assert my_function(\"MSRSLLLRFLLFLLLLPPLP\", [\"M\"]) == 5\n",
    "assert my_function(\"MSRSLLLRFLLFLLLLPPLP\", ['M', 'L']) == 55\n",
    "assert my_function(\"MSRSLLLRFLLFLLLLPPLP\", ['F', 'S', 'L']) == 70\n",
    "assert my_function(\"MSRSLLLRFLLFLLLLPPLP\") == 65"
   ]
  },
  {
   "cell_type": "code",
   "execution_count": 97,
   "metadata": {
    "collapsed": true
   },
   "outputs": [],
   "source": [
    "def my_function(protein, amino_acid=[\"A\", \"I\", \"L\", \"M\", \"F\", \"W\", \"Y\", \"V\"]):\n",
    "    length=len(protein)\n",
    "    occurence=[]\n",
    "    for AA in amino_acid:\n",
    "        occurence.append(protein.upper().count(AA.upper()))\n",
    "    total_occurence=sum(occurence)\n",
    "    percentage= int(total_occurence/length *100)\n",
    "    return percentage"
   ]
  },
  {
   "cell_type": "code",
   "execution_count": 98,
   "metadata": {
    "collapsed": false
   },
   "outputs": [],
   "source": [
    "assert my_function(\"MSRSLLLRFLLFLLLLPPLP\", [\"M\"]) == 5\n",
    "assert my_function(\"MSRSLLLRFLLFLLLLPPLP\", ['M', 'L']) == 55\n",
    "assert my_function(\"MSRSLLLRFLLFLLLLPPLP\", ['F', 'S', 'L']) == 70\n",
    "assert my_function(\"MSRSLLLRFLLFLLLLPPLP\") == 65\n",
    "#passes the tests once you put int in the function"
   ]
  },
  {
   "cell_type": "code",
   "execution_count": null,
   "metadata": {
    "collapsed": false
   },
   "outputs": [],
   "source": []
  },
  {
   "cell_type": "code",
   "execution_count": null,
   "metadata": {
    "collapsed": true
   },
   "outputs": [],
   "source": []
  }
 ],
 "metadata": {
  "anaconda-cloud": {},
  "kernelspec": {
   "display_name": "Python [default]",
   "language": "python",
   "name": "python3"
  },
  "language_info": {
   "codemirror_mode": {
    "name": "ipython",
    "version": 3
   },
   "file_extension": ".py",
   "mimetype": "text/x-python",
   "name": "python",
   "nbconvert_exporter": "python",
   "pygments_lexer": "ipython3",
   "version": "3.5.2"
  }
 },
 "nbformat": 4,
 "nbformat_minor": 2
}
