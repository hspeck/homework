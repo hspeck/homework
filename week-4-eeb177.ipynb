{
 "cells": [
  {
   "cell_type": "code",
   "execution_count": 3,
   "metadata": {
    "collapsed": false
   },
   "outputs": [
    {
     "name": "stdout",
     "output_type": "stream",
     "text": [
      "TGACTAGCTAATGCATATCATAAACGATAGTATGTATATATAGCTACGCAAGTA\n"
     ]
    }
   ],
   "source": [
    "##Complementing DNA\n",
    "newDNA=\"ACTGATCGATTACGTATAGTATTTGCTATCATACATATATATCGATGCGTTCAT\"\n",
    "\n",
    "#need to search through and replace the bases with its complementary base\n",
    "stepA=newDNA.replace(\"A\", \"t\")\n",
    "stepT=stepA.replace(\"T\",\"a\")\n",
    "stepG=stepT.replace(\"G\", \"c\")\n",
    "stepC=stepG.replace(\"C\",\"g\")\n",
    "complement=stepC.upper()\n",
    "print(complement)"
   ]
  },
  {
   "cell_type": "code",
   "execution_count": 9,
   "metadata": {
    "collapsed": false
   },
   "outputs": [
    {
     "name": "stdout",
     "output_type": "stream",
     "text": [
      "frag1:\n",
      "22\n",
      "frag2:\n",
      "33\n"
     ]
    }
   ],
   "source": [
    "###Restriction Fragment Lengths\n",
    "DNA=\"ACTGATCGATTACGTATAGTAGAATTCTATCATACATATATATCGATGCGTTCAT\"\n",
    "\n",
    "digestedDNA=DNA.replace(\"GAATTC\", \"G1AATTC\")\n",
    "frag1=digestedDNA[:digestedDNA.find(\"1\")]\n",
    "frag2=digestedDNA[digestedDNA.find(\"1\"):]\n",
    "    #this one needs to have one subtracted from the length as it will include the 1 in the length\n",
    "    \n",
    "print(\"frag1:\")\n",
    "print(len(frag1))\n",
    "\n",
    "print(\"frag2:\")\n",
    "print(len(frag2)-1)"
   ]
  },
  {
   "cell_type": "code",
   "execution_count": 15,
   "metadata": {
    "collapsed": false
   },
   "outputs": [
    {
     "name": "stdout",
     "output_type": "stream",
     "text": [
      "ATCGATCGATCGATCGACTGACTAGTCATAGCTATGCATGTAGCTACTCGATCGATCGATCGATTCATCGATCGATATCGATGCATCGACTACTAT\n"
     ]
    }
   ],
   "source": [
    "###Splicing out introns part 1\n",
    "genomicseq=\"ATCGATCGATCGATCGACTGACTAGTCATAGCTATGCATGTAGCTACTCGATCGATCGATCGATCGATCGATCGATCGATCGATCATGCTATCATCGATCGATATCGATGCATCGACTACTAT\"\n",
    "exon1=genomicseq[:64]\n",
    "exon2=genomicseq[91:]\n",
    "print(exon1+exon2)\n"
   ]
  },
  {
   "cell_type": "code",
   "execution_count": 29,
   "metadata": {
    "collapsed": false
   },
   "outputs": [
    {
     "name": "stdout",
     "output_type": "stream",
     "text": [
      "78.04878048780488\n"
     ]
    }
   ],
   "source": [
    "###Splicing out introns part 2\n",
    "\n",
    "print(100*((len(exon1)+len(exon2))/len(genomicseq)))"
   ]
  },
  {
   "cell_type": "code",
   "execution_count": 28,
   "metadata": {
    "collapsed": false
   },
   "outputs": [
    {
     "name": "stdout",
     "output_type": "stream",
     "text": [
      "ATCGATCGATCGATCGACTGACTAGTCATAGCTATGCATGTAGCTACTCGATCGATCGATCGATcgatcgatcgatcgatcgatcatgctaTCATCGATCGATATCGATGCATCGACTACTAT\n"
     ]
    }
   ],
   "source": [
    "intron=genomicseq[64:91]\n",
    "print(exon1 + intron.lower() +exon2)"
   ]
  },
  {
   "cell_type": "code",
   "execution_count": 32,
   "metadata": {
    "collapsed": false
   },
   "outputs": [],
   "source": [
    "##Splitting genomic DNA\n",
    "\n",
    "genomic_dna_file=open(\"/home/eeb177-student/Desktop/eeb-177/homework/Chapter 3/exercises/genomic_dna.txt\")\n",
    "genomicseq2=genomic_dna_file.read()\n",
    "coding_file=open(\"coding_dna.txt\", \"w\")\n",
    "noncoding_file=open(\"noncoding_dna.txt\", \"w\")\n",
    "exon1=genomicseq2[:64]\n",
    "exon2=genomicseq2[91:]\n",
    "intron=genomicseq2[63:91]\n",
    "\n",
    "coding_file.write(exon1+exon2)\n",
    "noncoding_file.write(intron)\n",
    "\n",
    "coding_file.close()\n",
    "noncoding_file.close()\n"
   ]
  },
  {
   "cell_type": "code",
   "execution_count": 38,
   "metadata": {
    "collapsed": false
   },
   "outputs": [],
   "source": [
    "#Writing a FASTA file\n",
    "head1=\">ABC123\"\n",
    "head2=\">DEF456\"\n",
    "head3=\">HIJ789\"\n",
    "finalseq1=\"ATCGTACGATCGATCGATCGCTAGACGTATCG\"\n",
    "seq2=\"actgatcgacgatcgatcgatcacgact\"\n",
    "seq3=\"ACTGAC-ACTGT--ACTGTA----CATGTG\"\n",
    "\n",
    "finalseq2=seq2.upper()\n",
    "\n",
    "finalseq3=seq3.replace(\"-\",\"\")\n",
    "\n",
    "\n",
    "exFASTA=open(\"ExampleFASTA.txt\", \"w\")\n",
    "exFASTA.write(head1+\"\\n\"+finalseq1+\"\\n\")\n",
    "exFASTA.write(head2+\"\\n\"+finalseq2+\"\\n\")\n",
    "exFASTA.write(head3+\"\\n\"+finalseq3+\"\\n\")\n",
    "exFASTA.close()"
   ]
  },
  {
   "cell_type": "code",
   "execution_count": null,
   "metadata": {
    "collapsed": true
   },
   "outputs": [],
   "source": [
    "#Processing DNA in a file\n",
    "\n"
   ]
  },
  {
   "cell_type": "code",
   "execution_count": null,
   "metadata": {
    "collapsed": true
   },
   "outputs": [],
   "source": [
    "#Multiple exons from genomic DNA\n",
    "\n"
   ]
  },
  {
   "cell_type": "code",
   "execution_count": null,
   "metadata": {
    "collapsed": true
   },
   "outputs": [],
   "source": []
  }
 ],
 "metadata": {
  "anaconda-cloud": {},
  "kernelspec": {
   "display_name": "Python [default]",
   "language": "python",
   "name": "python3"
  },
  "language_info": {
   "codemirror_mode": {
    "name": "ipython",
    "version": 3
   },
   "file_extension": ".py",
   "mimetype": "text/x-python",
   "name": "python",
   "nbconvert_exporter": "python",
   "pygments_lexer": "ipython3",
   "version": "3.5.2"
  }
 },
 "nbformat": 4,
 "nbformat_minor": 2
}
